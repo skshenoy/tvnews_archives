{
 "cells": [
  {
   "cell_type": "markdown",
   "metadata": {},
   "source": [
    "## Imports"
   ]
  },
  {
   "cell_type": "code",
   "execution_count": 55,
   "metadata": {},
   "outputs": [],
   "source": [
    "import pandas as pd\n",
    "import requests\n",
    "from bs4 import BeautifulSoup\n",
    "\n",
    "from time import sleep\n",
    "\n",
    "from datetime import datetime, timedelta\n",
    "\n",
    "import matplotlib.pyplot as plt\n",
    "import seaborn as sns\n",
    "%matplotlib inline"
   ]
  },
  {
   "cell_type": "markdown",
   "metadata": {},
   "source": [
    "## Library"
   ]
  },
  {
   "cell_type": "code",
   "execution_count": 16,
   "metadata": {},
   "outputs": [],
   "source": [
    "def get_broadcast_links(month):\n",
    "    sleep(4)\n",
    "    res = requests.get(site_index + month)\n",
    "    soup = BeautifulSoup(res.content, 'lxml')\n",
    "    \n",
    "    list_of_program_links = []\n",
    "\n",
    "    for day in soup.find_all('ul', {'class':'elist'}):\n",
    "        print('currently collecting links for:', \" \".join(day.text.split('\\n')[1].split()[-3:]))\n",
    "        for ntwrk in day.find_all('li', {'class':'elist_network'}):\n",
    "            try:\n",
    "                first_segment = ntwrk.find('li', {'class':'elist_segment'})\n",
    "#                 print(first_segment.find('a')['href'])\n",
    "                list_of_program_links.append(first_segment.find('a')['href'].replace('broadcasts', 'programs'))\n",
    "            except:\n",
    "                pass\n",
    "#         print()\n",
    "#     print()\n",
    "#     print('DONE COLLECTING ALL LINKS FOR', month)\n",
    "    print(len(list_of_program_links), 'program links for', month)\n",
    "    return list_of_program_links"
   ]
  },
  {
   "cell_type": "code",
   "execution_count": 17,
   "metadata": {},
   "outputs": [],
   "source": [
    "def get_segments(broadcast_programs_url):\n",
    "    url = main_url + broadcast_programs_url\n",
    "    res = requests.get(url)\n",
    "    soup = BeautifulSoup(res.content, 'lxml')\n",
    "    programs = []\n",
    "    headline = soup.find('h4', {'class':'program-headline'}).text\n",
    "    date = headline.split()[-1]\n",
    "    overall_duration = \" \".join(soup.find('p', {'class':'program-duration'}).text.split()[3:])\n",
    "    for row in soup.find_all('li', {'class':'listing program-clip'}):\n",
    "        program = {\n",
    "            'headline':headline,\n",
    "            'network':headline.split()[0],\n",
    "            'date':date,\n",
    "            'overall_duration':overall_duration\n",
    "        }\n",
    "        program['title'] = row.find('h4', {'class':'title'}).text\n",
    "        program['program_id'] = row.find('p', {'class':'id'}).text.replace(\"#\", \"\")\n",
    "        \n",
    "        timestamps = row.find('p', {'class':'timestamp'}).text\n",
    "        program['timestamps'] = timestamps\n",
    "        start = datetime.strptime(timestamps.split('—')[0], '%I:%M:%S %p ')\n",
    "        end = datetime.strptime(timestamps.split('—')[1], ' %I:%M:%S %p')\n",
    "        program['start_time'] = start.time()\n",
    "        program['end_time'] = end.time()\n",
    "        program['duration'] = (end - start).seconds\n",
    "        \n",
    "        description = \"\"\n",
    "        try:\n",
    "            description = row.find('div', {'class':'description'}).text\n",
    "        except:\n",
    "            pass\n",
    "        program['description'] = description\n",
    "        reporters = []\n",
    "        if len(description) > 0:\n",
    "            try:\n",
    "                for x in description.split(\")\"):\n",
    "                    if \"(\" in x:\n",
    "                        reporters.append(x.split(\":\")[1].strip())\n",
    "            except:\n",
    "                pass\n",
    "        program['reporters'] = reporters\n",
    "        programs.append(program)\n",
    "    return programs"
   ]
  },
  {
   "cell_type": "markdown",
   "metadata": {},
   "source": [
    "## Running"
   ]
  },
  {
   "cell_type": "code",
   "execution_count": 18,
   "metadata": {},
   "outputs": [],
   "source": [
    "month = '2017-06'\n",
    "\n",
    "site_index = 'https://tvnews.vanderbilt.edu/siteindex/'\n",
    "main_url = 'https://tvnews.vanderbilt.edu'"
   ]
  },
  {
   "cell_type": "code",
   "execution_count": null,
   "metadata": {},
   "outputs": [],
   "source": [
    "# collected_links = get_broadcast_links(month)\n",
    "\n",
    "# has output"
   ]
  },
  {
   "cell_type": "code",
   "execution_count": null,
   "metadata": {},
   "outputs": [],
   "source": [
    "# %time\n",
    "# df = pd.DataFrame()\n",
    "# for link in collected_links:\n",
    "#     print('fetching information for', link)\n",
    "#     df = pd.concat([df, pd.DataFrame(get_segments(link))])\n",
    "#     sleep(4)\n",
    "\n",
    "# print()\n",
    "# print('DONE COLLECTING INFORMATION FOR', month)\n",
    "# df.head()\n",
    "\n",
    "# has output"
   ]
  },
  {
   "cell_type": "code",
   "execution_count": 20,
   "metadata": {
    "scrolled": true
   },
   "outputs": [
    {
     "name": "stdout",
     "output_type": "stream",
     "text": [
      "CPU times: user 3 µs, sys: 0 ns, total: 3 µs\n",
      "Wall time: 5.01 µs\n",
      "currently collecting links for: January 1, 2018\n",
      "currently collecting links for: January 2, 2018\n",
      "currently collecting links for: January 3, 2018\n",
      "currently collecting links for: January 4, 2018\n",
      "currently collecting links for: January 5, 2018\n",
      "currently collecting links for: January 6, 2018\n",
      "currently collecting links for: January 7, 2018\n",
      "currently collecting links for: January 8, 2018\n",
      "currently collecting links for: January 9, 2018\n",
      "currently collecting links for: January 10, 2018\n",
      "currently collecting links for: January 11, 2018\n",
      "currently collecting links for: January 12, 2018\n",
      "currently collecting links for: January 13, 2018\n",
      "currently collecting links for: January 14, 2018\n",
      "currently collecting links for: January 15, 2018\n",
      "currently collecting links for: January 16, 2018\n",
      "currently collecting links for: January 17, 2018\n",
      "currently collecting links for: January 18, 2018\n",
      "currently collecting links for: January 19, 2018\n",
      "currently collecting links for: January 20, 2018\n",
      "currently collecting links for: January 21, 2018\n",
      "currently collecting links for: January 22, 2018\n",
      "currently collecting links for: January 23, 2018\n",
      "currently collecting links for: January 24, 2018\n",
      "currently collecting links for: January 25, 2018\n",
      "currently collecting links for: January 26, 2018\n",
      "currently collecting links for: January 27, 2018\n",
      "currently collecting links for: January 28, 2018\n",
      "currently collecting links for: January 29, 2018\n",
      "currently collecting links for: January 30, 2018\n",
      "currently collecting links for: January 31, 2018\n",
      "61 program links for 2018-01\n",
      "done collecting info for 2018-01\n",
      "currently collecting links for: February 1, 2018\n",
      "currently collecting links for: February 2, 2018\n",
      "currently collecting links for: February 3, 2018\n",
      "currently collecting links for: February 4, 2018\n",
      "currently collecting links for: February 5, 2018\n",
      "currently collecting links for: February 6, 2018\n",
      "currently collecting links for: February 7, 2018\n",
      "currently collecting links for: February 8, 2018\n",
      "currently collecting links for: February 9, 2018\n",
      "currently collecting links for: February 10, 2018\n",
      "currently collecting links for: February 11, 2018\n",
      "currently collecting links for: February 12, 2018\n",
      "currently collecting links for: February 13, 2018\n",
      "currently collecting links for: February 14, 2018\n",
      "currently collecting links for: February 15, 2018\n",
      "currently collecting links for: February 16, 2018\n",
      "currently collecting links for: February 17, 2018\n",
      "currently collecting links for: February 18, 2018\n",
      "currently collecting links for: February 19, 2018\n",
      "currently collecting links for: February 20, 2018\n",
      "currently collecting links for: February 21, 2018\n",
      "currently collecting links for: February 22, 2018\n",
      "currently collecting links for: February 23, 2018\n",
      "currently collecting links for: February 24, 2018\n",
      "currently collecting links for: February 25, 2018\n",
      "currently collecting links for: February 26, 2018\n",
      "currently collecting links for: February 27, 2018\n",
      "currently collecting links for: February 28, 2018\n",
      "57 program links for 2018-02\n",
      "done collecting info for 2018-02\n",
      "currently collecting links for: March 1, 2018\n",
      "currently collecting links for: March 2, 2018\n",
      "currently collecting links for: March 3, 2018\n",
      "currently collecting links for: March 4, 2018\n",
      "currently collecting links for: March 5, 2018\n",
      "currently collecting links for: March 6, 2018\n",
      "currently collecting links for: March 7, 2018\n",
      "currently collecting links for: March 8, 2018\n",
      "currently collecting links for: March 9, 2018\n",
      "currently collecting links for: March 10, 2018\n",
      "currently collecting links for: March 11, 2018\n",
      "currently collecting links for: March 12, 2018\n",
      "currently collecting links for: March 13, 2018\n",
      "currently collecting links for: March 14, 2018\n",
      "currently collecting links for: March 15, 2018\n",
      "currently collecting links for: March 16, 2018\n",
      "currently collecting links for: March 17, 2018\n",
      "currently collecting links for: March 18, 2018\n",
      "currently collecting links for: March 19, 2018\n",
      "currently collecting links for: March 20, 2018\n",
      "currently collecting links for: March 21, 2018\n",
      "currently collecting links for: March 22, 2018\n",
      "currently collecting links for: March 23, 2018\n",
      "currently collecting links for: March 24, 2018\n",
      "currently collecting links for: March 25, 2018\n",
      "currently collecting links for: March 26, 2018\n",
      "currently collecting links for: March 27, 2018\n",
      "currently collecting links for: March 28, 2018\n",
      "currently collecting links for: March 29, 2018\n",
      "currently collecting links for: March 30, 2018\n",
      "currently collecting links for: March 31, 2018\n",
      "64 program links for 2018-03\n",
      "done collecting info for 2018-03\n"
     ]
    }
   ],
   "source": [
    "%time # started at 8:33\n",
    "\n",
    "q1 = ['2018-01', '2018-02', '2018-03']\n",
    "\n",
    "q1_df = pd.DataFrame()\n",
    "\n",
    "for month in q1:\n",
    "    for link in get_broadcast_links(month):\n",
    "#         print('fetching information for', link)\n",
    "        q1_df = pd.concat([q1_df, pd.DataFrame(get_segments(link))])\n",
    "        sleep(4)\n",
    "    print('done collecting info for', month)"
   ]
  },
  {
   "cell_type": "code",
   "execution_count": 21,
   "metadata": {},
   "outputs": [
    {
     "data": {
      "text/plain": [
       "datetime.datetime(2019, 12, 11, 20, 47, 0, 210092)"
      ]
     },
     "execution_count": 21,
     "metadata": {},
     "output_type": "execute_result"
    }
   ],
   "source": [
    "datetime.now() # this took....14 minutes-ish"
   ]
  },
  {
   "cell_type": "code",
   "execution_count": 22,
   "metadata": {},
   "outputs": [
    {
     "data": {
      "text/plain": [
       "(2492, 12)"
      ]
     },
     "execution_count": 22,
     "metadata": {},
     "output_type": "execute_result"
    }
   ],
   "source": [
    "q1_df.shape"
   ]
  },
  {
   "cell_type": "code",
   "execution_count": 23,
   "metadata": {},
   "outputs": [
    {
     "data": {
      "text/html": [
       "<div>\n",
       "<style scoped>\n",
       "    .dataframe tbody tr th:only-of-type {\n",
       "        vertical-align: middle;\n",
       "    }\n",
       "\n",
       "    .dataframe tbody tr th {\n",
       "        vertical-align: top;\n",
       "    }\n",
       "\n",
       "    .dataframe thead th {\n",
       "        text-align: right;\n",
       "    }\n",
       "</style>\n",
       "<table border=\"1\" class=\"dataframe\">\n",
       "  <thead>\n",
       "    <tr style=\"text-align: right;\">\n",
       "      <th></th>\n",
       "      <th>headline</th>\n",
       "      <th>network</th>\n",
       "      <th>date</th>\n",
       "      <th>overall_duration</th>\n",
       "      <th>title</th>\n",
       "      <th>program_id</th>\n",
       "      <th>timestamps</th>\n",
       "      <th>start_time</th>\n",
       "      <th>end_time</th>\n",
       "      <th>duration</th>\n",
       "      <th>description</th>\n",
       "      <th>reporters</th>\n",
       "    </tr>\n",
       "  </thead>\n",
       "  <tbody>\n",
       "    <tr>\n",
       "      <td>0</td>\n",
       "      <td>ABC Evening News for 2018-01-01</td>\n",
       "      <td>ABC</td>\n",
       "      <td>2018-01-01</td>\n",
       "      <td>29 minutes long</td>\n",
       "      <td>Preview/Introduction\\tTom Llamas (New York)</td>\n",
       "      <td>1119334</td>\n",
       "      <td>05:30:00 pm — 05:31:20 pm</td>\n",
       "      <td>17:30:00</td>\n",
       "      <td>17:31:20</td>\n",
       "      <td>80</td>\n",
       "      <td></td>\n",
       "      <td>[]</td>\n",
       "    </tr>\n",
       "    <tr>\n",
       "      <td>1</td>\n",
       "      <td>ABC Evening News for 2018-01-01</td>\n",
       "      <td>ABC</td>\n",
       "      <td>2018-01-01</td>\n",
       "      <td>29 minutes long</td>\n",
       "      <td>Winter Weather / Cold</td>\n",
       "      <td>1119335</td>\n",
       "      <td>05:31:20 pm — 05:36:00 pm</td>\n",
       "      <td>17:31:20</td>\n",
       "      <td>17:36:00</td>\n",
       "      <td>280</td>\n",
       "      <td>(Studio: Tom Llamas)  Report introduced.  \\n\\n...</td>\n",
       "      <td>[Tom Llamas, Erielle Reshef, Tom Llamas, Ginge...</td>\n",
       "    </tr>\n",
       "    <tr>\n",
       "      <td>2</td>\n",
       "      <td>ABC Evening News for 2018-01-01</td>\n",
       "      <td>ABC</td>\n",
       "      <td>2018-01-01</td>\n",
       "      <td>29 minutes long</td>\n",
       "      <td>Costa Rica / Plane Crash</td>\n",
       "      <td>1119336</td>\n",
       "      <td>05:36:00 pm — 05:36:50 pm</td>\n",
       "      <td>17:36:00</td>\n",
       "      <td>17:36:50</td>\n",
       "      <td>50</td>\n",
       "      <td>(Studio: Tom Llamas)  Report introduced.  \\n\\n...</td>\n",
       "      <td>[Tom Llamas, Adrienne Bankert]</td>\n",
       "    </tr>\n",
       "  </tbody>\n",
       "</table>\n",
       "</div>"
      ],
      "text/plain": [
       "                          headline network        date overall_duration  \\\n",
       "0  ABC Evening News for 2018-01-01     ABC  2018-01-01  29 minutes long   \n",
       "1  ABC Evening News for 2018-01-01     ABC  2018-01-01  29 minutes long   \n",
       "2  ABC Evening News for 2018-01-01     ABC  2018-01-01  29 minutes long   \n",
       "\n",
       "                                         title program_id  \\\n",
       "0  Preview/Introduction\\tTom Llamas (New York)    1119334   \n",
       "1                        Winter Weather / Cold    1119335   \n",
       "2                     Costa Rica / Plane Crash    1119336   \n",
       "\n",
       "                  timestamps start_time  end_time  duration  \\\n",
       "0  05:30:00 pm — 05:31:20 pm   17:30:00  17:31:20        80   \n",
       "1  05:31:20 pm — 05:36:00 pm   17:31:20  17:36:00       280   \n",
       "2  05:36:00 pm — 05:36:50 pm   17:36:00  17:36:50        50   \n",
       "\n",
       "                                         description  \\\n",
       "0                                                      \n",
       "1  (Studio: Tom Llamas)  Report introduced.  \\n\\n...   \n",
       "2  (Studio: Tom Llamas)  Report introduced.  \\n\\n...   \n",
       "\n",
       "                                           reporters  \n",
       "0                                                 []  \n",
       "1  [Tom Llamas, Erielle Reshef, Tom Llamas, Ginge...  \n",
       "2                     [Tom Llamas, Adrienne Bankert]  "
      ]
     },
     "execution_count": 23,
     "metadata": {},
     "output_type": "execute_result"
    }
   ],
   "source": [
    "q1_df.head(3)"
   ]
  },
  {
   "cell_type": "code",
   "execution_count": 24,
   "metadata": {},
   "outputs": [
    {
     "data": {
      "text/html": [
       "<div>\n",
       "<style scoped>\n",
       "    .dataframe tbody tr th:only-of-type {\n",
       "        vertical-align: middle;\n",
       "    }\n",
       "\n",
       "    .dataframe tbody tr th {\n",
       "        vertical-align: top;\n",
       "    }\n",
       "\n",
       "    .dataframe thead th {\n",
       "        text-align: right;\n",
       "    }\n",
       "</style>\n",
       "<table border=\"1\" class=\"dataframe\">\n",
       "  <thead>\n",
       "    <tr style=\"text-align: right;\">\n",
       "      <th></th>\n",
       "      <th>num_days</th>\n",
       "      <th>num_programs</th>\n",
       "    </tr>\n",
       "    <tr>\n",
       "      <th>network</th>\n",
       "      <th></th>\n",
       "      <th></th>\n",
       "    </tr>\n",
       "  </thead>\n",
       "  <tbody>\n",
       "    <tr>\n",
       "      <td>ABC</td>\n",
       "      <td>89</td>\n",
       "      <td>1275</td>\n",
       "    </tr>\n",
       "    <tr>\n",
       "      <td>CBS</td>\n",
       "      <td>8</td>\n",
       "      <td>121</td>\n",
       "    </tr>\n",
       "    <tr>\n",
       "      <td>CNN</td>\n",
       "      <td>64</td>\n",
       "      <td>771</td>\n",
       "    </tr>\n",
       "    <tr>\n",
       "      <td>NBC</td>\n",
       "      <td>21</td>\n",
       "      <td>325</td>\n",
       "    </tr>\n",
       "  </tbody>\n",
       "</table>\n",
       "</div>"
      ],
      "text/plain": [
       "         num_days  num_programs\n",
       "network                        \n",
       "ABC            89          1275\n",
       "CBS             8           121\n",
       "CNN            64           771\n",
       "NBC            21           325"
      ]
     },
     "execution_count": 24,
     "metadata": {},
     "output_type": "execute_result"
    }
   ],
   "source": [
    "q1_df.groupby('network').agg(\n",
    "    num_days=('date', 'nunique'), num_programs=('program_id', 'nunique'))"
   ]
  },
  {
   "cell_type": "code",
   "execution_count": 25,
   "metadata": {},
   "outputs": [],
   "source": [
    "q1_df.to_csv('./data/2018_q1.csv', index=False)"
   ]
  },
  {
   "cell_type": "code",
   "execution_count": null,
   "metadata": {},
   "outputs": [],
   "source": []
  },
  {
   "cell_type": "code",
   "execution_count": null,
   "metadata": {},
   "outputs": [],
   "source": []
  },
  {
   "cell_type": "code",
   "execution_count": 26,
   "metadata": {
    "scrolled": true
   },
   "outputs": [
    {
     "name": "stdout",
     "output_type": "stream",
     "text": [
      "currently collecting links for: April 1, 2018\n",
      "currently collecting links for: April 2, 2018\n",
      "currently collecting links for: April 3, 2018\n",
      "currently collecting links for: April 4, 2018\n",
      "currently collecting links for: April 5, 2018\n",
      "currently collecting links for: April 6, 2018\n",
      "currently collecting links for: April 7, 2018\n",
      "currently collecting links for: April 8, 2018\n",
      "currently collecting links for: April 9, 2018\n",
      "currently collecting links for: April 10, 2018\n",
      "currently collecting links for: April 11, 2018\n",
      "currently collecting links for: April 12, 2018\n",
      "currently collecting links for: April 13, 2018\n",
      "currently collecting links for: April 14, 2018\n",
      "currently collecting links for: April 15, 2018\n",
      "currently collecting links for: April 16, 2018\n",
      "currently collecting links for: April 17, 2018\n",
      "currently collecting links for: April 18, 2018\n",
      "currently collecting links for: April 19, 2018\n",
      "currently collecting links for: April 20, 2018\n",
      "currently collecting links for: April 21, 2018\n",
      "currently collecting links for: April 22, 2018\n",
      "currently collecting links for: April 23, 2018\n",
      "currently collecting links for: April 24, 2018\n",
      "currently collecting links for: April 25, 2018\n",
      "currently collecting links for: April 26, 2018\n",
      "currently collecting links for: April 27, 2018\n",
      "currently collecting links for: April 28, 2018\n",
      "currently collecting links for: April 29, 2018\n",
      "currently collecting links for: April 30, 2018\n",
      "64 program links for 2018-04\n",
      "done collecting info for 2018-04\n",
      "currently collecting links for: May 1, 2018\n",
      "currently collecting links for: May 2, 2018\n",
      "currently collecting links for: May 3, 2018\n",
      "currently collecting links for: May 4, 2018\n",
      "currently collecting links for: May 5, 2018\n",
      "currently collecting links for: May 6, 2018\n",
      "currently collecting links for: May 7, 2018\n",
      "currently collecting links for: May 8, 2018\n",
      "currently collecting links for: May 9, 2018\n",
      "currently collecting links for: May 10, 2018\n",
      "currently collecting links for: May 11, 2018\n",
      "currently collecting links for: May 12, 2018\n",
      "currently collecting links for: May 13, 2018\n",
      "currently collecting links for: May 14, 2018\n",
      "currently collecting links for: May 15, 2018\n",
      "currently collecting links for: May 16, 2018\n",
      "currently collecting links for: May 17, 2018\n",
      "currently collecting links for: May 18, 2018\n",
      "currently collecting links for: May 19, 2018\n",
      "currently collecting links for: May 20, 2018\n",
      "currently collecting links for: May 21, 2018\n",
      "currently collecting links for: May 22, 2018\n",
      "currently collecting links for: May 23, 2018\n",
      "currently collecting links for: May 24, 2018\n",
      "currently collecting links for: May 25, 2018\n",
      "currently collecting links for: May 26, 2018\n",
      "currently collecting links for: May 27, 2018\n",
      "currently collecting links for: May 28, 2018\n",
      "currently collecting links for: May 29, 2018\n",
      "currently collecting links for: May 30, 2018\n",
      "currently collecting links for: May 31, 2018\n",
      "64 program links for 2018-05\n",
      "done collecting info for 2018-05\n",
      "currently collecting links for: June 1, 2018\n",
      "currently collecting links for: June 2, 2018\n",
      "currently collecting links for: June 3, 2018\n",
      "currently collecting links for: June 4, 2018\n",
      "currently collecting links for: June 5, 2018\n",
      "currently collecting links for: June 6, 2018\n",
      "currently collecting links for: June 7, 2018\n",
      "currently collecting links for: June 8, 2018\n",
      "currently collecting links for: June 9, 2018\n",
      "currently collecting links for: June 10, 2018\n",
      "currently collecting links for: June 11, 2018\n",
      "currently collecting links for: June 12, 2018\n",
      "currently collecting links for: June 13, 2018\n",
      "currently collecting links for: June 14, 2018\n",
      "currently collecting links for: June 15, 2018\n",
      "currently collecting links for: June 16, 2018\n",
      "currently collecting links for: June 17, 2018\n",
      "currently collecting links for: June 18, 2018\n",
      "currently collecting links for: June 19, 2018\n",
      "currently collecting links for: June 20, 2018\n",
      "currently collecting links for: June 21, 2018\n",
      "currently collecting links for: June 22, 2018\n",
      "currently collecting links for: June 23, 2018\n",
      "currently collecting links for: June 24, 2018\n",
      "currently collecting links for: June 25, 2018\n",
      "currently collecting links for: June 26, 2018\n",
      "currently collecting links for: June 27, 2018\n",
      "currently collecting links for: June 28, 2018\n",
      "currently collecting links for: June 29, 2018\n",
      "currently collecting links for: June 30, 2018\n",
      "67 program links for 2018-06\n",
      "done collecting info for 2018-06\n"
     ]
    }
   ],
   "source": [
    "# started at 8:54\n",
    "\n",
    "q2 = ['2018-04', '2018-05', '2018-06']\n",
    "\n",
    "q2_df = pd.DataFrame()\n",
    "\n",
    "for month in q2:\n",
    "    for link in get_broadcast_links(month):\n",
    "#         print('fetching information for', link)\n",
    "        q2_df = pd.concat([q2_df, pd.DataFrame(get_segments(link))])\n",
    "        sleep(4)\n",
    "    print('done collecting info for', month)"
   ]
  },
  {
   "cell_type": "code",
   "execution_count": 27,
   "metadata": {},
   "outputs": [
    {
     "data": {
      "text/plain": [
       "datetime.datetime(2019, 12, 11, 21, 8, 53, 984479)"
      ]
     },
     "execution_count": 27,
     "metadata": {},
     "output_type": "execute_result"
    }
   ],
   "source": [
    "datetime.now() # 14 minutes"
   ]
  },
  {
   "cell_type": "code",
   "execution_count": 28,
   "metadata": {},
   "outputs": [
    {
     "data": {
      "text/plain": [
       "(2758, 12)"
      ]
     },
     "execution_count": 28,
     "metadata": {},
     "output_type": "execute_result"
    }
   ],
   "source": [
    "q2_df.shape"
   ]
  },
  {
   "cell_type": "code",
   "execution_count": 30,
   "metadata": {},
   "outputs": [
    {
     "data": {
      "text/html": [
       "<div>\n",
       "<style scoped>\n",
       "    .dataframe tbody tr th:only-of-type {\n",
       "        vertical-align: middle;\n",
       "    }\n",
       "\n",
       "    .dataframe tbody tr th {\n",
       "        vertical-align: top;\n",
       "    }\n",
       "\n",
       "    .dataframe thead th {\n",
       "        text-align: right;\n",
       "    }\n",
       "</style>\n",
       "<table border=\"1\" class=\"dataframe\">\n",
       "  <thead>\n",
       "    <tr style=\"text-align: right;\">\n",
       "      <th></th>\n",
       "      <th>headline</th>\n",
       "      <th>network</th>\n",
       "      <th>date</th>\n",
       "      <th>overall_duration</th>\n",
       "      <th>title</th>\n",
       "      <th>program_id</th>\n",
       "      <th>timestamps</th>\n",
       "      <th>start_time</th>\n",
       "      <th>end_time</th>\n",
       "      <th>duration</th>\n",
       "      <th>description</th>\n",
       "      <th>reporters</th>\n",
       "    </tr>\n",
       "  </thead>\n",
       "  <tbody>\n",
       "    <tr>\n",
       "      <td>0</td>\n",
       "      <td>ABC Evening News for 2018-04-01</td>\n",
       "      <td>ABC</td>\n",
       "      <td>2018-04-01</td>\n",
       "      <td>29 minutes long</td>\n",
       "      <td>Preview/Introduction\\tTom Llamas (New York)</td>\n",
       "      <td>1122697</td>\n",
       "      <td>05:30:00 pm — 05:31:10 pm</td>\n",
       "      <td>17:30:00</td>\n",
       "      <td>17:31:10</td>\n",
       "      <td>70</td>\n",
       "      <td></td>\n",
       "      <td>[]</td>\n",
       "    </tr>\n",
       "    <tr>\n",
       "      <td>1</td>\n",
       "      <td>ABC Evening News for 2018-04-01</td>\n",
       "      <td>ABC</td>\n",
       "      <td>2018-04-01</td>\n",
       "      <td>29 minutes long</td>\n",
       "      <td>Severe Weather / Snow</td>\n",
       "      <td>1122698</td>\n",
       "      <td>05:31:10 pm — 05:33:30 pm</td>\n",
       "      <td>17:31:10</td>\n",
       "      <td>17:33:30</td>\n",
       "      <td>140</td>\n",
       "      <td>(Studio: Tom Llamas)  Report introduced.  \\n\\n...</td>\n",
       "      <td>[Tom Llamas, Sam Champion]</td>\n",
       "    </tr>\n",
       "    <tr>\n",
       "      <td>2</td>\n",
       "      <td>ABC Evening News for 2018-04-01</td>\n",
       "      <td>ABC</td>\n",
       "      <td>2018-04-01</td>\n",
       "      <td>29 minutes long</td>\n",
       "      <td>Trump / Immigration</td>\n",
       "      <td>1122699</td>\n",
       "      <td>05:33:30 pm — 05:36:10 pm</td>\n",
       "      <td>17:33:30</td>\n",
       "      <td>17:36:10</td>\n",
       "      <td>160</td>\n",
       "      <td>(Studio: Tom Llamas)  Report introduced.  \\n\\n...</td>\n",
       "      <td>[Tom Llamas, Tara Palmeri]</td>\n",
       "    </tr>\n",
       "  </tbody>\n",
       "</table>\n",
       "</div>"
      ],
      "text/plain": [
       "                          headline network        date overall_duration  \\\n",
       "0  ABC Evening News for 2018-04-01     ABC  2018-04-01  29 minutes long   \n",
       "1  ABC Evening News for 2018-04-01     ABC  2018-04-01  29 minutes long   \n",
       "2  ABC Evening News for 2018-04-01     ABC  2018-04-01  29 minutes long   \n",
       "\n",
       "                                         title program_id  \\\n",
       "0  Preview/Introduction\\tTom Llamas (New York)    1122697   \n",
       "1                        Severe Weather / Snow    1122698   \n",
       "2                          Trump / Immigration    1122699   \n",
       "\n",
       "                  timestamps start_time  end_time  duration  \\\n",
       "0  05:30:00 pm — 05:31:10 pm   17:30:00  17:31:10        70   \n",
       "1  05:31:10 pm — 05:33:30 pm   17:31:10  17:33:30       140   \n",
       "2  05:33:30 pm — 05:36:10 pm   17:33:30  17:36:10       160   \n",
       "\n",
       "                                         description  \\\n",
       "0                                                      \n",
       "1  (Studio: Tom Llamas)  Report introduced.  \\n\\n...   \n",
       "2  (Studio: Tom Llamas)  Report introduced.  \\n\\n...   \n",
       "\n",
       "                    reporters  \n",
       "0                          []  \n",
       "1  [Tom Llamas, Sam Champion]  \n",
       "2  [Tom Llamas, Tara Palmeri]  "
      ]
     },
     "execution_count": 30,
     "metadata": {},
     "output_type": "execute_result"
    }
   ],
   "source": [
    "q2_df.head(3)"
   ]
  },
  {
   "cell_type": "code",
   "execution_count": 31,
   "metadata": {},
   "outputs": [
    {
     "data": {
      "text/html": [
       "<div>\n",
       "<style scoped>\n",
       "    .dataframe tbody tr th:only-of-type {\n",
       "        vertical-align: middle;\n",
       "    }\n",
       "\n",
       "    .dataframe tbody tr th {\n",
       "        vertical-align: top;\n",
       "    }\n",
       "\n",
       "    .dataframe thead th {\n",
       "        text-align: right;\n",
       "    }\n",
       "</style>\n",
       "<table border=\"1\" class=\"dataframe\">\n",
       "  <thead>\n",
       "    <tr style=\"text-align: right;\">\n",
       "      <th></th>\n",
       "      <th>num_days</th>\n",
       "      <th>num_programs</th>\n",
       "    </tr>\n",
       "    <tr>\n",
       "      <th>network</th>\n",
       "      <th></th>\n",
       "      <th></th>\n",
       "    </tr>\n",
       "  </thead>\n",
       "  <tbody>\n",
       "    <tr>\n",
       "      <td>ABC</td>\n",
       "      <td>88</td>\n",
       "      <td>1299</td>\n",
       "    </tr>\n",
       "    <tr>\n",
       "      <td>CBS</td>\n",
       "      <td>22</td>\n",
       "      <td>338</td>\n",
       "    </tr>\n",
       "    <tr>\n",
       "      <td>CNN</td>\n",
       "      <td>64</td>\n",
       "      <td>789</td>\n",
       "    </tr>\n",
       "    <tr>\n",
       "      <td>NBC</td>\n",
       "      <td>21</td>\n",
       "      <td>332</td>\n",
       "    </tr>\n",
       "  </tbody>\n",
       "</table>\n",
       "</div>"
      ],
      "text/plain": [
       "         num_days  num_programs\n",
       "network                        \n",
       "ABC            88          1299\n",
       "CBS            22           338\n",
       "CNN            64           789\n",
       "NBC            21           332"
      ]
     },
     "execution_count": 31,
     "metadata": {},
     "output_type": "execute_result"
    }
   ],
   "source": [
    "q2_df.groupby('network').agg(\n",
    "    num_days=('date', 'nunique'), num_programs=('program_id', 'nunique'))"
   ]
  },
  {
   "cell_type": "code",
   "execution_count": 37,
   "metadata": {},
   "outputs": [],
   "source": [
    "q2_df.to_csv('./data/2018_q2.csv', index=False)"
   ]
  },
  {
   "cell_type": "code",
   "execution_count": null,
   "metadata": {},
   "outputs": [],
   "source": []
  },
  {
   "cell_type": "code",
   "execution_count": null,
   "metadata": {},
   "outputs": [],
   "source": []
  },
  {
   "cell_type": "code",
   "execution_count": 32,
   "metadata": {
    "scrolled": true
   },
   "outputs": [
    {
     "name": "stdout",
     "output_type": "stream",
     "text": [
      "currently collecting links for: July 1, 2018\n",
      "currently collecting links for: July 2, 2018\n",
      "currently collecting links for: July 3, 2018\n",
      "currently collecting links for: July 4, 2018\n",
      "currently collecting links for: July 5, 2018\n",
      "currently collecting links for: July 6, 2018\n",
      "currently collecting links for: July 7, 2018\n",
      "currently collecting links for: July 8, 2018\n",
      "currently collecting links for: July 9, 2018\n",
      "currently collecting links for: July 10, 2018\n",
      "currently collecting links for: July 11, 2018\n",
      "currently collecting links for: July 12, 2018\n",
      "currently collecting links for: July 13, 2018\n",
      "currently collecting links for: July 14, 2018\n",
      "currently collecting links for: July 15, 2018\n",
      "currently collecting links for: July 16, 2018\n",
      "currently collecting links for: July 17, 2018\n",
      "currently collecting links for: July 18, 2018\n",
      "currently collecting links for: July 19, 2018\n",
      "currently collecting links for: July 20, 2018\n",
      "currently collecting links for: July 21, 2018\n",
      "currently collecting links for: July 22, 2018\n",
      "currently collecting links for: July 23, 2018\n",
      "currently collecting links for: July 24, 2018\n",
      "currently collecting links for: July 25, 2018\n",
      "currently collecting links for: July 26, 2018\n",
      "currently collecting links for: July 27, 2018\n",
      "currently collecting links for: July 28, 2018\n",
      "currently collecting links for: July 29, 2018\n",
      "currently collecting links for: July 30, 2018\n",
      "currently collecting links for: July 31, 2018\n",
      "67 program links for 2018-07\n",
      "done collecting info for 2018-07\n",
      "currently collecting links for: August 1, 2018\n",
      "currently collecting links for: August 2, 2018\n",
      "currently collecting links for: August 3, 2018\n",
      "currently collecting links for: August 4, 2018\n",
      "currently collecting links for: August 5, 2018\n",
      "currently collecting links for: August 6, 2018\n",
      "currently collecting links for: August 7, 2018\n",
      "currently collecting links for: August 8, 2018\n",
      "currently collecting links for: August 9, 2018\n",
      "currently collecting links for: August 10, 2018\n",
      "currently collecting links for: August 11, 2018\n",
      "currently collecting links for: August 12, 2018\n",
      "currently collecting links for: August 13, 2018\n",
      "currently collecting links for: August 14, 2018\n",
      "currently collecting links for: August 15, 2018\n",
      "currently collecting links for: August 16, 2018\n",
      "currently collecting links for: August 17, 2018\n",
      "currently collecting links for: August 18, 2018\n",
      "currently collecting links for: August 19, 2018\n",
      "currently collecting links for: August 20, 2018\n",
      "currently collecting links for: August 21, 2018\n",
      "currently collecting links for: August 22, 2018\n",
      "currently collecting links for: August 23, 2018\n",
      "currently collecting links for: August 24, 2018\n",
      "currently collecting links for: August 25, 2018\n",
      "currently collecting links for: August 26, 2018\n",
      "currently collecting links for: August 27, 2018\n",
      "currently collecting links for: August 28, 2018\n",
      "currently collecting links for: August 29, 2018\n",
      "currently collecting links for: August 30, 2018\n",
      "currently collecting links for: August 31, 2018\n",
      "67 program links for 2018-08\n",
      "done collecting info for 2018-08\n",
      "currently collecting links for: September 1, 2018\n",
      "currently collecting links for: September 2, 2018\n",
      "currently collecting links for: September 3, 2018\n",
      "currently collecting links for: September 4, 2018\n",
      "currently collecting links for: September 5, 2018\n",
      "currently collecting links for: September 6, 2018\n",
      "currently collecting links for: September 7, 2018\n",
      "currently collecting links for: September 8, 2018\n",
      "currently collecting links for: September 9, 2018\n",
      "currently collecting links for: September 10, 2018\n",
      "currently collecting links for: September 11, 2018\n",
      "currently collecting links for: September 12, 2018\n",
      "currently collecting links for: September 13, 2018\n",
      "currently collecting links for: September 14, 2018\n",
      "currently collecting links for: September 15, 2018\n",
      "currently collecting links for: September 16, 2018\n",
      "currently collecting links for: September 17, 2018\n",
      "currently collecting links for: September 18, 2018\n",
      "currently collecting links for: September 19, 2018\n",
      "currently collecting links for: September 20, 2018\n",
      "currently collecting links for: September 21, 2018\n",
      "currently collecting links for: September 22, 2018\n",
      "currently collecting links for: September 23, 2018\n",
      "currently collecting links for: September 24, 2018\n",
      "currently collecting links for: September 25, 2018\n",
      "currently collecting links for: September 26, 2018\n",
      "currently collecting links for: September 27, 2018\n",
      "currently collecting links for: September 28, 2018\n",
      "currently collecting links for: September 29, 2018\n",
      "currently collecting links for: September 30, 2018\n",
      "55 program links for 2018-09\n",
      "done collecting info for 2018-09\n"
     ]
    }
   ],
   "source": [
    "# started at 9:25\n",
    "\n",
    "q3 = ['2018-07', '2018-08', '2018-09']\n",
    "\n",
    "q3_df = pd.DataFrame()\n",
    "\n",
    "for month in q3:\n",
    "    for link in get_broadcast_links(month):\n",
    "#         print('fetching information for', link)\n",
    "        q3_df = pd.concat([q3_df, pd.DataFrame(get_segments(link))])\n",
    "        sleep(4)\n",
    "    print('done collecting info for', month)"
   ]
  },
  {
   "cell_type": "code",
   "execution_count": 33,
   "metadata": {
    "scrolled": true
   },
   "outputs": [
    {
     "data": {
      "text/plain": [
       "datetime.datetime(2019, 12, 11, 21, 39, 35, 353135)"
      ]
     },
     "execution_count": 33,
     "metadata": {},
     "output_type": "execute_result"
    }
   ],
   "source": [
    "datetime.now() # 14 minutes"
   ]
  },
  {
   "cell_type": "code",
   "execution_count": 34,
   "metadata": {},
   "outputs": [
    {
     "data": {
      "text/plain": [
       "(2590, 12)"
      ]
     },
     "execution_count": 34,
     "metadata": {},
     "output_type": "execute_result"
    }
   ],
   "source": [
    "q3_df.shape"
   ]
  },
  {
   "cell_type": "code",
   "execution_count": 35,
   "metadata": {},
   "outputs": [
    {
     "data": {
      "text/html": [
       "<div>\n",
       "<style scoped>\n",
       "    .dataframe tbody tr th:only-of-type {\n",
       "        vertical-align: middle;\n",
       "    }\n",
       "\n",
       "    .dataframe tbody tr th {\n",
       "        vertical-align: top;\n",
       "    }\n",
       "\n",
       "    .dataframe thead th {\n",
       "        text-align: right;\n",
       "    }\n",
       "</style>\n",
       "<table border=\"1\" class=\"dataframe\">\n",
       "  <thead>\n",
       "    <tr style=\"text-align: right;\">\n",
       "      <th></th>\n",
       "      <th>headline</th>\n",
       "      <th>network</th>\n",
       "      <th>date</th>\n",
       "      <th>overall_duration</th>\n",
       "      <th>title</th>\n",
       "      <th>program_id</th>\n",
       "      <th>timestamps</th>\n",
       "      <th>start_time</th>\n",
       "      <th>end_time</th>\n",
       "      <th>duration</th>\n",
       "      <th>description</th>\n",
       "      <th>reporters</th>\n",
       "    </tr>\n",
       "  </thead>\n",
       "  <tbody>\n",
       "    <tr>\n",
       "      <td>0</td>\n",
       "      <td>ABC Evening News for 2018-07-01</td>\n",
       "      <td>ABC</td>\n",
       "      <td>2018-07-01</td>\n",
       "      <td>21 minutes long</td>\n",
       "      <td>Preview/Introduction\\tTom Llamas (New York)</td>\n",
       "      <td>1126863</td>\n",
       "      <td>05:08:20 pm — 05:09:30 pm</td>\n",
       "      <td>17:08:20</td>\n",
       "      <td>17:09:30</td>\n",
       "      <td>70</td>\n",
       "      <td></td>\n",
       "      <td>[]</td>\n",
       "    </tr>\n",
       "    <tr>\n",
       "      <td>1</td>\n",
       "      <td>ABC Evening News for 2018-07-01</td>\n",
       "      <td>ABC</td>\n",
       "      <td>2018-07-01</td>\n",
       "      <td>21 minutes long</td>\n",
       "      <td>Weather: Heat Wave, Flooding</td>\n",
       "      <td>1126864</td>\n",
       "      <td>05:09:30 pm — 05:12:00 pm</td>\n",
       "      <td>17:09:30</td>\n",
       "      <td>17:12:00</td>\n",
       "      <td>150</td>\n",
       "      <td>(Studio: Tom Llamas)  Report introduced.  \\n\\n...</td>\n",
       "      <td>[Tom Llamas, Rob Marciano]</td>\n",
       "    </tr>\n",
       "    <tr>\n",
       "      <td>2</td>\n",
       "      <td>ABC Evening News for 2018-07-01</td>\n",
       "      <td>ABC</td>\n",
       "      <td>2018-07-01</td>\n",
       "      <td>21 minutes long</td>\n",
       "      <td>Bahamas / Tour Boat Explosion</td>\n",
       "      <td>1126865</td>\n",
       "      <td>05:12:00 pm — 05:13:40 pm</td>\n",
       "      <td>17:12:00</td>\n",
       "      <td>17:13:40</td>\n",
       "      <td>100</td>\n",
       "      <td>(Studio: Tom Llamas)  Report introduced.  \\n\\n...</td>\n",
       "      <td>[Tom Llamas, Erielle Reshef]</td>\n",
       "    </tr>\n",
       "  </tbody>\n",
       "</table>\n",
       "</div>"
      ],
      "text/plain": [
       "                          headline network        date overall_duration  \\\n",
       "0  ABC Evening News for 2018-07-01     ABC  2018-07-01  21 minutes long   \n",
       "1  ABC Evening News for 2018-07-01     ABC  2018-07-01  21 minutes long   \n",
       "2  ABC Evening News for 2018-07-01     ABC  2018-07-01  21 minutes long   \n",
       "\n",
       "                                         title program_id  \\\n",
       "0  Preview/Introduction\\tTom Llamas (New York)    1126863   \n",
       "1                 Weather: Heat Wave, Flooding    1126864   \n",
       "2                Bahamas / Tour Boat Explosion    1126865   \n",
       "\n",
       "                  timestamps start_time  end_time  duration  \\\n",
       "0  05:08:20 pm — 05:09:30 pm   17:08:20  17:09:30        70   \n",
       "1  05:09:30 pm — 05:12:00 pm   17:09:30  17:12:00       150   \n",
       "2  05:12:00 pm — 05:13:40 pm   17:12:00  17:13:40       100   \n",
       "\n",
       "                                         description  \\\n",
       "0                                                      \n",
       "1  (Studio: Tom Llamas)  Report introduced.  \\n\\n...   \n",
       "2  (Studio: Tom Llamas)  Report introduced.  \\n\\n...   \n",
       "\n",
       "                      reporters  \n",
       "0                            []  \n",
       "1    [Tom Llamas, Rob Marciano]  \n",
       "2  [Tom Llamas, Erielle Reshef]  "
      ]
     },
     "execution_count": 35,
     "metadata": {},
     "output_type": "execute_result"
    }
   ],
   "source": [
    "q3_df.head(3)"
   ]
  },
  {
   "cell_type": "code",
   "execution_count": 36,
   "metadata": {},
   "outputs": [
    {
     "data": {
      "text/html": [
       "<div>\n",
       "<style scoped>\n",
       "    .dataframe tbody tr th:only-of-type {\n",
       "        vertical-align: middle;\n",
       "    }\n",
       "\n",
       "    .dataframe tbody tr th {\n",
       "        vertical-align: top;\n",
       "    }\n",
       "\n",
       "    .dataframe thead th {\n",
       "        text-align: right;\n",
       "    }\n",
       "</style>\n",
       "<table border=\"1\" class=\"dataframe\">\n",
       "  <thead>\n",
       "    <tr style=\"text-align: right;\">\n",
       "      <th></th>\n",
       "      <th>num_days</th>\n",
       "      <th>num_programs</th>\n",
       "    </tr>\n",
       "    <tr>\n",
       "      <th>network</th>\n",
       "      <th></th>\n",
       "      <th></th>\n",
       "    </tr>\n",
       "  </thead>\n",
       "  <tbody>\n",
       "    <tr>\n",
       "      <td>ABC</td>\n",
       "      <td>85</td>\n",
       "      <td>1205</td>\n",
       "    </tr>\n",
       "    <tr>\n",
       "      <td>CBS</td>\n",
       "      <td>14</td>\n",
       "      <td>211</td>\n",
       "    </tr>\n",
       "    <tr>\n",
       "      <td>CNN</td>\n",
       "      <td>64</td>\n",
       "      <td>763</td>\n",
       "    </tr>\n",
       "    <tr>\n",
       "      <td>NBC</td>\n",
       "      <td>26</td>\n",
       "      <td>411</td>\n",
       "    </tr>\n",
       "  </tbody>\n",
       "</table>\n",
       "</div>"
      ],
      "text/plain": [
       "         num_days  num_programs\n",
       "network                        \n",
       "ABC            85          1205\n",
       "CBS            14           211\n",
       "CNN            64           763\n",
       "NBC            26           411"
      ]
     },
     "execution_count": 36,
     "metadata": {},
     "output_type": "execute_result"
    }
   ],
   "source": [
    "q3_df.groupby('network').agg(\n",
    "    num_days=('date', 'nunique'), num_programs=('program_id', 'nunique'))"
   ]
  },
  {
   "cell_type": "code",
   "execution_count": 38,
   "metadata": {},
   "outputs": [],
   "source": [
    "q3_df.to_csv('./data/2018_q3.csv', index=False)"
   ]
  },
  {
   "cell_type": "code",
   "execution_count": null,
   "metadata": {},
   "outputs": [],
   "source": []
  },
  {
   "cell_type": "code",
   "execution_count": null,
   "metadata": {},
   "outputs": [],
   "source": []
  },
  {
   "cell_type": "code",
   "execution_count": 42,
   "metadata": {
    "scrolled": true
   },
   "outputs": [
    {
     "name": "stdout",
     "output_type": "stream",
     "text": [
      "currently collecting links for: October 1, 2018\n",
      "currently collecting links for: October 2, 2018\n",
      "currently collecting links for: October 3, 2018\n",
      "currently collecting links for: October 4, 2018\n",
      "currently collecting links for: October 5, 2018\n",
      "currently collecting links for: October 6, 2018\n",
      "currently collecting links for: October 7, 2018\n",
      "currently collecting links for: October 8, 2018\n",
      "currently collecting links for: October 9, 2018\n",
      "currently collecting links for: October 10, 2018\n",
      "currently collecting links for: October 11, 2018\n",
      "currently collecting links for: October 12, 2018\n",
      "currently collecting links for: October 13, 2018\n",
      "currently collecting links for: October 14, 2018\n",
      "currently collecting links for: October 15, 2018\n",
      "currently collecting links for: October 16, 2018\n",
      "currently collecting links for: October 17, 2018\n",
      "currently collecting links for: October 18, 2018\n",
      "currently collecting links for: October 19, 2018\n",
      "currently collecting links for: October 20, 2018\n",
      "currently collecting links for: October 21, 2018\n",
      "currently collecting links for: October 22, 2018\n",
      "currently collecting links for: October 23, 2018\n",
      "currently collecting links for: October 24, 2018\n",
      "currently collecting links for: October 25, 2018\n",
      "currently collecting links for: October 26, 2018\n",
      "currently collecting links for: October 27, 2018\n",
      "currently collecting links for: October 28, 2018\n",
      "currently collecting links for: October 29, 2018\n",
      "currently collecting links for: October 30, 2018\n",
      "currently collecting links for: October 31, 2018\n",
      "60 program links for 2018-10\n",
      "done collecting info for 2018-10\n",
      "currently collecting links for: November 1, 2018\n",
      "currently collecting links for: November 2, 2018\n",
      "currently collecting links for: November 3, 2018\n",
      "currently collecting links for: November 4, 2018\n",
      "currently collecting links for: November 5, 2018\n",
      "currently collecting links for: November 6, 2018\n",
      "currently collecting links for: November 7, 2018\n",
      "currently collecting links for: November 8, 2018\n",
      "currently collecting links for: November 9, 2018\n",
      "currently collecting links for: November 10, 2018\n",
      "currently collecting links for: November 11, 2018\n",
      "currently collecting links for: November 12, 2018\n",
      "currently collecting links for: November 13, 2018\n",
      "currently collecting links for: November 14, 2018\n",
      "currently collecting links for: November 15, 2018\n",
      "currently collecting links for: November 16, 2018\n",
      "currently collecting links for: November 17, 2018\n",
      "currently collecting links for: November 18, 2018\n",
      "currently collecting links for: November 19, 2018\n",
      "currently collecting links for: November 20, 2018\n",
      "currently collecting links for: November 21, 2018\n",
      "currently collecting links for: November 22, 2018\n",
      "currently collecting links for: November 23, 2018\n",
      "currently collecting links for: November 24, 2018\n",
      "currently collecting links for: November 25, 2018\n",
      "currently collecting links for: November 26, 2018\n",
      "currently collecting links for: November 27, 2018\n",
      "currently collecting links for: November 28, 2018\n",
      "currently collecting links for: November 29, 2018\n",
      "currently collecting links for: November 30, 2018\n",
      "52 program links for 2018-11\n",
      "done collecting info for 2018-11\n",
      "currently collecting links for: December 1, 2018\n",
      "currently collecting links for: December 2, 2018\n",
      "currently collecting links for: December 3, 2018\n",
      "currently collecting links for: December 4, 2018\n",
      "currently collecting links for: December 5, 2018\n",
      "currently collecting links for: December 6, 2018\n",
      "currently collecting links for: December 7, 2018\n",
      "currently collecting links for: December 8, 2018\n",
      "currently collecting links for: December 9, 2018\n",
      "currently collecting links for: December 10, 2018\n",
      "currently collecting links for: December 11, 2018\n",
      "currently collecting links for: December 12, 2018\n",
      "currently collecting links for: December 13, 2018\n",
      "currently collecting links for: December 14, 2018\n",
      "currently collecting links for: December 15, 2018\n",
      "currently collecting links for: December 16, 2018\n",
      "currently collecting links for: December 17, 2018\n",
      "currently collecting links for: December 18, 2018\n",
      "currently collecting links for: December 19, 2018\n",
      "currently collecting links for: December 20, 2018\n",
      "currently collecting links for: December 21, 2018\n",
      "currently collecting links for: December 22, 2018\n",
      "currently collecting links for: December 23, 2018\n",
      "currently collecting links for: December 24, 2018\n",
      "currently collecting links for: December 25, 2018\n",
      "currently collecting links for: December 26, 2018\n",
      "currently collecting links for: December 27, 2018\n",
      "currently collecting links for: December 28, 2018\n",
      "currently collecting links for: December 29, 2018\n",
      "currently collecting links for: December 30, 2018\n",
      "currently collecting links for: December 31, 2018\n",
      "59 program links for 2018-12\n",
      "done collecting info for 2018-12\n"
     ]
    }
   ],
   "source": [
    "# started at 9:56\n",
    "\n",
    "q4 = ['2018-10', '2018-11', '2018-12']\n",
    "\n",
    "q4_df = pd.DataFrame()\n",
    "\n",
    "for month in q4:\n",
    "    for link in get_broadcast_links(month):\n",
    "#         print('fetching information for', link)\n",
    "        q4_df = pd.concat([q4_df, pd.DataFrame(get_segments(link))])\n",
    "        sleep(4)\n",
    "    print('done collecting info for', month)"
   ]
  },
  {
   "cell_type": "code",
   "execution_count": 43,
   "metadata": {},
   "outputs": [
    {
     "data": {
      "text/plain": [
       "datetime.datetime(2019, 12, 11, 22, 9, 31, 397007)"
      ]
     },
     "execution_count": 43,
     "metadata": {},
     "output_type": "execute_result"
    }
   ],
   "source": [
    "datetime.now() # 13-14 minutes-ish"
   ]
  },
  {
   "cell_type": "code",
   "execution_count": 44,
   "metadata": {},
   "outputs": [
    {
     "data": {
      "text/plain": [
       "(2383, 12)"
      ]
     },
     "execution_count": 44,
     "metadata": {},
     "output_type": "execute_result"
    }
   ],
   "source": [
    "q4_df.shape"
   ]
  },
  {
   "cell_type": "code",
   "execution_count": 45,
   "metadata": {},
   "outputs": [
    {
     "data": {
      "text/html": [
       "<div>\n",
       "<style scoped>\n",
       "    .dataframe tbody tr th:only-of-type {\n",
       "        vertical-align: middle;\n",
       "    }\n",
       "\n",
       "    .dataframe tbody tr th {\n",
       "        vertical-align: top;\n",
       "    }\n",
       "\n",
       "    .dataframe thead th {\n",
       "        text-align: right;\n",
       "    }\n",
       "</style>\n",
       "<table border=\"1\" class=\"dataframe\">\n",
       "  <thead>\n",
       "    <tr style=\"text-align: right;\">\n",
       "      <th></th>\n",
       "      <th>headline</th>\n",
       "      <th>network</th>\n",
       "      <th>date</th>\n",
       "      <th>overall_duration</th>\n",
       "      <th>title</th>\n",
       "      <th>program_id</th>\n",
       "      <th>timestamps</th>\n",
       "      <th>start_time</th>\n",
       "      <th>end_time</th>\n",
       "      <th>duration</th>\n",
       "      <th>description</th>\n",
       "      <th>reporters</th>\n",
       "    </tr>\n",
       "  </thead>\n",
       "  <tbody>\n",
       "    <tr>\n",
       "      <td>0</td>\n",
       "      <td>ABC Evening News for 2018-10-01</td>\n",
       "      <td>ABC</td>\n",
       "      <td>2018-10-01</td>\n",
       "      <td>29 minutes long</td>\n",
       "      <td>Preview/Introduction\\tDavid Muir (New York)</td>\n",
       "      <td>1130528</td>\n",
       "      <td>05:30:00 pm — 05:31:30 pm</td>\n",
       "      <td>17:30:00</td>\n",
       "      <td>17:31:30</td>\n",
       "      <td>90</td>\n",
       "      <td></td>\n",
       "      <td>[]</td>\n",
       "    </tr>\n",
       "    <tr>\n",
       "      <td>1</td>\n",
       "      <td>ABC Evening News for 2018-10-01</td>\n",
       "      <td>ABC</td>\n",
       "      <td>2018-10-01</td>\n",
       "      <td>29 minutes long</td>\n",
       "      <td>Supreme Court / Kavanaugh Nomination / After S...</td>\n",
       "      <td>1130529</td>\n",
       "      <td>05:31:30 pm — 05:40:20 pm</td>\n",
       "      <td>17:31:30</td>\n",
       "      <td>17:40:20</td>\n",
       "      <td>530</td>\n",
       "      <td>(Studio: David Muir)  Report introduced.  \\n\\n...</td>\n",
       "      <td>[David Muir, Cecilia Vega, David Muir, Pierre ...</td>\n",
       "    </tr>\n",
       "    <tr>\n",
       "      <td>2</td>\n",
       "      <td>ABC Evening News for 2018-10-01</td>\n",
       "      <td>ABC</td>\n",
       "      <td>2018-10-01</td>\n",
       "      <td>29 minutes long</td>\n",
       "      <td>Indonesia / Earthquake</td>\n",
       "      <td>1130530</td>\n",
       "      <td>05:40:20 pm — 05:42:30 pm</td>\n",
       "      <td>17:40:20</td>\n",
       "      <td>17:42:30</td>\n",
       "      <td>130</td>\n",
       "      <td>(Studio: David Muir)  Report introduced.  \\n\\n...</td>\n",
       "      <td>[David Muir, James Longman]</td>\n",
       "    </tr>\n",
       "  </tbody>\n",
       "</table>\n",
       "</div>"
      ],
      "text/plain": [
       "                          headline network        date overall_duration  \\\n",
       "0  ABC Evening News for 2018-10-01     ABC  2018-10-01  29 minutes long   \n",
       "1  ABC Evening News for 2018-10-01     ABC  2018-10-01  29 minutes long   \n",
       "2  ABC Evening News for 2018-10-01     ABC  2018-10-01  29 minutes long   \n",
       "\n",
       "                                               title program_id  \\\n",
       "0        Preview/Introduction\\tDavid Muir (New York)    1130528   \n",
       "1  Supreme Court / Kavanaugh Nomination / After S...    1130529   \n",
       "2                            Indonesia / Earthquake     1130530   \n",
       "\n",
       "                  timestamps start_time  end_time  duration  \\\n",
       "0  05:30:00 pm — 05:31:30 pm   17:30:00  17:31:30        90   \n",
       "1  05:31:30 pm — 05:40:20 pm   17:31:30  17:40:20       530   \n",
       "2  05:40:20 pm — 05:42:30 pm   17:40:20  17:42:30       130   \n",
       "\n",
       "                                         description  \\\n",
       "0                                                      \n",
       "1  (Studio: David Muir)  Report introduced.  \\n\\n...   \n",
       "2  (Studio: David Muir)  Report introduced.  \\n\\n...   \n",
       "\n",
       "                                           reporters  \n",
       "0                                                 []  \n",
       "1  [David Muir, Cecilia Vega, David Muir, Pierre ...  \n",
       "2                        [David Muir, James Longman]  "
      ]
     },
     "execution_count": 45,
     "metadata": {},
     "output_type": "execute_result"
    }
   ],
   "source": [
    "q4_df.head(3)"
   ]
  },
  {
   "cell_type": "code",
   "execution_count": 46,
   "metadata": {},
   "outputs": [
    {
     "data": {
      "text/html": [
       "<div>\n",
       "<style scoped>\n",
       "    .dataframe tbody tr th:only-of-type {\n",
       "        vertical-align: middle;\n",
       "    }\n",
       "\n",
       "    .dataframe tbody tr th {\n",
       "        vertical-align: top;\n",
       "    }\n",
       "\n",
       "    .dataframe thead th {\n",
       "        text-align: right;\n",
       "    }\n",
       "</style>\n",
       "<table border=\"1\" class=\"dataframe\">\n",
       "  <thead>\n",
       "    <tr style=\"text-align: right;\">\n",
       "      <th></th>\n",
       "      <th>num_days</th>\n",
       "      <th>num_programs</th>\n",
       "    </tr>\n",
       "    <tr>\n",
       "      <th>network</th>\n",
       "      <th></th>\n",
       "      <th></th>\n",
       "    </tr>\n",
       "  </thead>\n",
       "  <tbody>\n",
       "    <tr>\n",
       "      <td>ABC</td>\n",
       "      <td>80</td>\n",
       "      <td>1208</td>\n",
       "    </tr>\n",
       "    <tr>\n",
       "      <td>CBS</td>\n",
       "      <td>8</td>\n",
       "      <td>115</td>\n",
       "    </tr>\n",
       "    <tr>\n",
       "      <td>CNN</td>\n",
       "      <td>59</td>\n",
       "      <td>681</td>\n",
       "    </tr>\n",
       "    <tr>\n",
       "      <td>NBC</td>\n",
       "      <td>24</td>\n",
       "      <td>379</td>\n",
       "    </tr>\n",
       "  </tbody>\n",
       "</table>\n",
       "</div>"
      ],
      "text/plain": [
       "         num_days  num_programs\n",
       "network                        \n",
       "ABC            80          1208\n",
       "CBS             8           115\n",
       "CNN            59           681\n",
       "NBC            24           379"
      ]
     },
     "execution_count": 46,
     "metadata": {},
     "output_type": "execute_result"
    }
   ],
   "source": [
    "q4_df.groupby('network').agg(\n",
    "    num_days=('date', 'nunique'), num_programs=('program_id', 'nunique'))"
   ]
  },
  {
   "cell_type": "code",
   "execution_count": 47,
   "metadata": {},
   "outputs": [],
   "source": [
    "q4_df.to_csv('./data/2018_q4.csv', index=False)"
   ]
  },
  {
   "cell_type": "markdown",
   "metadata": {},
   "source": [
    "## Joining"
   ]
  },
  {
   "cell_type": "code",
   "execution_count": 48,
   "metadata": {},
   "outputs": [
    {
     "data": {
      "text/plain": [
       "(10223, 12)"
      ]
     },
     "execution_count": 48,
     "metadata": {},
     "output_type": "execute_result"
    }
   ],
   "source": [
    "df = pd.concat([q1_df, q2_df, q3_df, q4_df])\n",
    "df.shape"
   ]
  },
  {
   "cell_type": "code",
   "execution_count": 49,
   "metadata": {},
   "outputs": [
    {
     "data": {
      "text/html": [
       "<div>\n",
       "<style scoped>\n",
       "    .dataframe tbody tr th:only-of-type {\n",
       "        vertical-align: middle;\n",
       "    }\n",
       "\n",
       "    .dataframe tbody tr th {\n",
       "        vertical-align: top;\n",
       "    }\n",
       "\n",
       "    .dataframe thead th {\n",
       "        text-align: right;\n",
       "    }\n",
       "</style>\n",
       "<table border=\"1\" class=\"dataframe\">\n",
       "  <thead>\n",
       "    <tr style=\"text-align: right;\">\n",
       "      <th></th>\n",
       "      <th>headline</th>\n",
       "      <th>network</th>\n",
       "      <th>date</th>\n",
       "      <th>overall_duration</th>\n",
       "      <th>title</th>\n",
       "      <th>program_id</th>\n",
       "      <th>timestamps</th>\n",
       "      <th>start_time</th>\n",
       "      <th>end_time</th>\n",
       "      <th>duration</th>\n",
       "      <th>description</th>\n",
       "      <th>reporters</th>\n",
       "    </tr>\n",
       "  </thead>\n",
       "  <tbody>\n",
       "    <tr>\n",
       "      <td>0</td>\n",
       "      <td>ABC Evening News for 2018-01-01</td>\n",
       "      <td>ABC</td>\n",
       "      <td>2018-01-01</td>\n",
       "      <td>29 minutes long</td>\n",
       "      <td>Preview/Introduction\\tTom Llamas (New York)</td>\n",
       "      <td>1119334</td>\n",
       "      <td>05:30:00 pm — 05:31:20 pm</td>\n",
       "      <td>17:30:00</td>\n",
       "      <td>17:31:20</td>\n",
       "      <td>80</td>\n",
       "      <td></td>\n",
       "      <td>[]</td>\n",
       "    </tr>\n",
       "    <tr>\n",
       "      <td>1</td>\n",
       "      <td>ABC Evening News for 2018-01-01</td>\n",
       "      <td>ABC</td>\n",
       "      <td>2018-01-01</td>\n",
       "      <td>29 minutes long</td>\n",
       "      <td>Winter Weather / Cold</td>\n",
       "      <td>1119335</td>\n",
       "      <td>05:31:20 pm — 05:36:00 pm</td>\n",
       "      <td>17:31:20</td>\n",
       "      <td>17:36:00</td>\n",
       "      <td>280</td>\n",
       "      <td>(Studio: Tom Llamas)  Report introduced.  \\n\\n...</td>\n",
       "      <td>[Tom Llamas, Erielle Reshef, Tom Llamas, Ginge...</td>\n",
       "    </tr>\n",
       "    <tr>\n",
       "      <td>2</td>\n",
       "      <td>ABC Evening News for 2018-01-01</td>\n",
       "      <td>ABC</td>\n",
       "      <td>2018-01-01</td>\n",
       "      <td>29 minutes long</td>\n",
       "      <td>Costa Rica / Plane Crash</td>\n",
       "      <td>1119336</td>\n",
       "      <td>05:36:00 pm — 05:36:50 pm</td>\n",
       "      <td>17:36:00</td>\n",
       "      <td>17:36:50</td>\n",
       "      <td>50</td>\n",
       "      <td>(Studio: Tom Llamas)  Report introduced.  \\n\\n...</td>\n",
       "      <td>[Tom Llamas, Adrienne Bankert]</td>\n",
       "    </tr>\n",
       "  </tbody>\n",
       "</table>\n",
       "</div>"
      ],
      "text/plain": [
       "                          headline network        date overall_duration  \\\n",
       "0  ABC Evening News for 2018-01-01     ABC  2018-01-01  29 minutes long   \n",
       "1  ABC Evening News for 2018-01-01     ABC  2018-01-01  29 minutes long   \n",
       "2  ABC Evening News for 2018-01-01     ABC  2018-01-01  29 minutes long   \n",
       "\n",
       "                                         title program_id  \\\n",
       "0  Preview/Introduction\\tTom Llamas (New York)    1119334   \n",
       "1                        Winter Weather / Cold    1119335   \n",
       "2                     Costa Rica / Plane Crash    1119336   \n",
       "\n",
       "                  timestamps start_time  end_time  duration  \\\n",
       "0  05:30:00 pm — 05:31:20 pm   17:30:00  17:31:20        80   \n",
       "1  05:31:20 pm — 05:36:00 pm   17:31:20  17:36:00       280   \n",
       "2  05:36:00 pm — 05:36:50 pm   17:36:00  17:36:50        50   \n",
       "\n",
       "                                         description  \\\n",
       "0                                                      \n",
       "1  (Studio: Tom Llamas)  Report introduced.  \\n\\n...   \n",
       "2  (Studio: Tom Llamas)  Report introduced.  \\n\\n...   \n",
       "\n",
       "                                           reporters  \n",
       "0                                                 []  \n",
       "1  [Tom Llamas, Erielle Reshef, Tom Llamas, Ginge...  \n",
       "2                     [Tom Llamas, Adrienne Bankert]  "
      ]
     },
     "execution_count": 49,
     "metadata": {},
     "output_type": "execute_result"
    }
   ],
   "source": [
    "df.head(3)"
   ]
  },
  {
   "cell_type": "code",
   "execution_count": 50,
   "metadata": {},
   "outputs": [
    {
     "data": {
      "text/html": [
       "<div>\n",
       "<style scoped>\n",
       "    .dataframe tbody tr th:only-of-type {\n",
       "        vertical-align: middle;\n",
       "    }\n",
       "\n",
       "    .dataframe tbody tr th {\n",
       "        vertical-align: top;\n",
       "    }\n",
       "\n",
       "    .dataframe thead th {\n",
       "        text-align: right;\n",
       "    }\n",
       "</style>\n",
       "<table border=\"1\" class=\"dataframe\">\n",
       "  <thead>\n",
       "    <tr style=\"text-align: right;\">\n",
       "      <th></th>\n",
       "      <th>headline</th>\n",
       "      <th>network</th>\n",
       "      <th>date</th>\n",
       "      <th>overall_duration</th>\n",
       "      <th>title</th>\n",
       "      <th>program_id</th>\n",
       "      <th>timestamps</th>\n",
       "      <th>start_time</th>\n",
       "      <th>end_time</th>\n",
       "      <th>duration</th>\n",
       "      <th>description</th>\n",
       "      <th>reporters</th>\n",
       "    </tr>\n",
       "  </thead>\n",
       "  <tbody>\n",
       "    <tr>\n",
       "      <td>15</td>\n",
       "      <td>ABC Evening News for 2018-12-31</td>\n",
       "      <td>ABC</td>\n",
       "      <td>2018-12-31</td>\n",
       "      <td>29 minutes long</td>\n",
       "      <td>Upcoming Items &amp; COMMERCIALS: Publishers Clear...</td>\n",
       "      <td>1133502</td>\n",
       "      <td>05:52:00 pm — 05:55:50 pm</td>\n",
       "      <td>17:52:00</td>\n",
       "      <td>17:55:50</td>\n",
       "      <td>230</td>\n",
       "      <td></td>\n",
       "      <td>[]</td>\n",
       "    </tr>\n",
       "    <tr>\n",
       "      <td>16</td>\n",
       "      <td>ABC Evening News for 2018-12-31</td>\n",
       "      <td>ABC</td>\n",
       "      <td>2018-12-31</td>\n",
       "      <td>29 minutes long</td>\n",
       "      <td>ABC News Team</td>\n",
       "      <td>1133503</td>\n",
       "      <td>05:55:50 pm — 05:58:40 pm</td>\n",
       "      <td>17:55:50</td>\n",
       "      <td>17:58:40</td>\n",
       "      <td>170</td>\n",
       "      <td>(Studio: Tom Llamas)  The ABC News team acknow...</td>\n",
       "      <td>[Tom Llamas]</td>\n",
       "    </tr>\n",
       "    <tr>\n",
       "      <td>17</td>\n",
       "      <td>ABC Evening News for 2018-12-31</td>\n",
       "      <td>ABC</td>\n",
       "      <td>2018-12-31</td>\n",
       "      <td>29 minutes long</td>\n",
       "      <td>Broadcast ends</td>\n",
       "      <td>1133504</td>\n",
       "      <td>05:58:40 pm — 05:58:40 pm</td>\n",
       "      <td>17:58:40</td>\n",
       "      <td>17:58:40</td>\n",
       "      <td>0</td>\n",
       "      <td></td>\n",
       "      <td>[]</td>\n",
       "    </tr>\n",
       "  </tbody>\n",
       "</table>\n",
       "</div>"
      ],
      "text/plain": [
       "                           headline network        date overall_duration  \\\n",
       "15  ABC Evening News for 2018-12-31     ABC  2018-12-31  29 minutes long   \n",
       "16  ABC Evening News for 2018-12-31     ABC  2018-12-31  29 minutes long   \n",
       "17  ABC Evening News for 2018-12-31     ABC  2018-12-31  29 minutes long   \n",
       "\n",
       "                                                title program_id  \\\n",
       "15  Upcoming Items & COMMERCIALS: Publishers Clear...    1133502   \n",
       "16                                      ABC News Team    1133503   \n",
       "17                                     Broadcast ends    1133504   \n",
       "\n",
       "                   timestamps start_time  end_time  duration  \\\n",
       "15  05:52:00 pm — 05:55:50 pm   17:52:00  17:55:50       230   \n",
       "16  05:55:50 pm — 05:58:40 pm   17:55:50  17:58:40       170   \n",
       "17  05:58:40 pm — 05:58:40 pm   17:58:40  17:58:40         0   \n",
       "\n",
       "                                          description     reporters  \n",
       "15                                                               []  \n",
       "16  (Studio: Tom Llamas)  The ABC News team acknow...  [Tom Llamas]  \n",
       "17                                                               []  "
      ]
     },
     "execution_count": 50,
     "metadata": {},
     "output_type": "execute_result"
    }
   ],
   "source": [
    "df.tail(3)"
   ]
  },
  {
   "cell_type": "code",
   "execution_count": 51,
   "metadata": {},
   "outputs": [],
   "source": [
    "df.to_csv('./data/all_of_2018.csv', index=False)"
   ]
  },
  {
   "cell_type": "markdown",
   "metadata": {},
   "source": [
    "### trying for duration"
   ]
  },
  {
   "cell_type": "code",
   "execution_count": 52,
   "metadata": {},
   "outputs": [],
   "source": [
    "def get_duration(subsection):\n",
    "    return subsection.sum() / 60"
   ]
  },
  {
   "cell_type": "code",
   "execution_count": 53,
   "metadata": {},
   "outputs": [
    {
     "data": {
      "text/html": [
       "<div>\n",
       "<style scoped>\n",
       "    .dataframe tbody tr th:only-of-type {\n",
       "        vertical-align: middle;\n",
       "    }\n",
       "\n",
       "    .dataframe tbody tr th {\n",
       "        vertical-align: top;\n",
       "    }\n",
       "\n",
       "    .dataframe thead th {\n",
       "        text-align: right;\n",
       "    }\n",
       "</style>\n",
       "<table border=\"1\" class=\"dataframe\">\n",
       "  <thead>\n",
       "    <tr style=\"text-align: right;\">\n",
       "      <th></th>\n",
       "      <th>network</th>\n",
       "      <th>date</th>\n",
       "      <th>overall_duration</th>\n",
       "      <th>duration</th>\n",
       "    </tr>\n",
       "  </thead>\n",
       "  <tbody>\n",
       "    <tr>\n",
       "      <td>0</td>\n",
       "      <td>ABC</td>\n",
       "      <td>2018-01-01</td>\n",
       "      <td>29 minutes long</td>\n",
       "      <td>28.666667</td>\n",
       "    </tr>\n",
       "    <tr>\n",
       "      <td>1</td>\n",
       "      <td>ABC</td>\n",
       "      <td>2018-01-02</td>\n",
       "      <td>29 minutes long</td>\n",
       "      <td>28.833333</td>\n",
       "    </tr>\n",
       "    <tr>\n",
       "      <td>2</td>\n",
       "      <td>ABC</td>\n",
       "      <td>2018-01-03</td>\n",
       "      <td>29 minutes long</td>\n",
       "      <td>28.666667</td>\n",
       "    </tr>\n",
       "    <tr>\n",
       "      <td>3</td>\n",
       "      <td>ABC</td>\n",
       "      <td>2018-01-04</td>\n",
       "      <td>29 minutes long</td>\n",
       "      <td>28.666667</td>\n",
       "    </tr>\n",
       "    <tr>\n",
       "      <td>4</td>\n",
       "      <td>ABC</td>\n",
       "      <td>2018-01-05</td>\n",
       "      <td>30 minutes long</td>\n",
       "      <td>29.833333</td>\n",
       "    </tr>\n",
       "  </tbody>\n",
       "</table>\n",
       "</div>"
      ],
      "text/plain": [
       "  network        date overall_duration   duration\n",
       "0     ABC  2018-01-01  29 minutes long  28.666667\n",
       "1     ABC  2018-01-02  29 minutes long  28.833333\n",
       "2     ABC  2018-01-03  29 minutes long  28.666667\n",
       "3     ABC  2018-01-04  29 minutes long  28.666667\n",
       "4     ABC  2018-01-05  30 minutes long  29.833333"
      ]
     },
     "execution_count": 53,
     "metadata": {},
     "output_type": "execute_result"
    }
   ],
   "source": [
    "time_agg = df.groupby(['network', 'date', 'overall_duration']).agg(get_duration)\n",
    "time_agg = time_agg.reset_index()\n",
    "time_agg.head()"
   ]
  },
  {
   "cell_type": "code",
   "execution_count": 59,
   "metadata": {},
   "outputs": [
    {
     "data": {
      "text/plain": [
       "network  date      \n",
       "ABC      2018-01-01    15\n",
       "         2018-01-02    17\n",
       "         2018-01-03    15\n",
       "         2018-01-04    12\n",
       "         2018-01-05    13\n",
       "                       ..\n",
       "NBC      2018-12-15    17\n",
       "         2018-12-16    18\n",
       "         2018-12-23    16\n",
       "         2018-12-29    16\n",
       "         2018-12-30    18\n",
       "Length: 737, dtype: int64"
      ]
     },
     "execution_count": 59,
     "metadata": {},
     "output_type": "execute_result"
    }
   ],
   "source": [
    "df.groupby(['network', 'date']).size()"
   ]
  },
  {
   "cell_type": "code",
   "execution_count": null,
   "metadata": {},
   "outputs": [],
   "source": []
  },
  {
   "cell_type": "code",
   "execution_count": 63,
   "metadata": {},
   "outputs": [
    {
     "data": {
      "text/plain": [
       "'2018-01-01'"
      ]
     },
     "execution_count": 63,
     "metadata": {},
     "output_type": "execute_result"
    }
   ],
   "source": [
    "time_agg['date'].min()"
   ]
  },
  {
   "cell_type": "code",
   "execution_count": 64,
   "metadata": {},
   "outputs": [
    {
     "data": {
      "text/plain": [
       "'2018-12-31'"
      ]
     },
     "execution_count": 64,
     "metadata": {},
     "output_type": "execute_result"
    }
   ],
   "source": [
    "time_agg['date'].max()"
   ]
  },
  {
   "cell_type": "code",
   "execution_count": 65,
   "metadata": {},
   "outputs": [
    {
     "data": {
      "text/plain": [
       "362"
      ]
     },
     "execution_count": 65,
     "metadata": {},
     "output_type": "execute_result"
    }
   ],
   "source": [
    "time_agg['date'].nunique()"
   ]
  },
  {
   "cell_type": "code",
   "execution_count": 66,
   "metadata": {},
   "outputs": [
    {
     "data": {
      "text/plain": [
       "2018-05-26    3\n",
       "2018-12-09    3\n",
       "2018-01-20    3\n",
       "2018-04-01    3\n",
       "2018-06-24    3\n",
       "             ..\n",
       "2018-09-22    1\n",
       "2018-05-28    1\n",
       "2018-11-10    1\n",
       "2018-12-01    1\n",
       "2018-09-15    1\n",
       "Name: date, Length: 362, dtype: int64"
      ]
     },
     "execution_count": 66,
     "metadata": {},
     "output_type": "execute_result"
    }
   ],
   "source": [
    "time_agg['date'].value_counts()"
   ]
  },
  {
   "cell_type": "code",
   "execution_count": null,
   "metadata": {},
   "outputs": [],
   "source": []
  },
  {
   "cell_type": "code",
   "execution_count": null,
   "metadata": {},
   "outputs": [],
   "source": []
  },
  {
   "cell_type": "markdown",
   "metadata": {},
   "source": [
    "### by quarter??"
   ]
  },
  {
   "cell_type": "code",
   "execution_count": 77,
   "metadata": {},
   "outputs": [
    {
     "data": {
      "text/html": [
       "<div>\n",
       "<style scoped>\n",
       "    .dataframe tbody tr th:only-of-type {\n",
       "        vertical-align: middle;\n",
       "    }\n",
       "\n",
       "    .dataframe tbody tr th {\n",
       "        vertical-align: top;\n",
       "    }\n",
       "\n",
       "    .dataframe thead th {\n",
       "        text-align: right;\n",
       "    }\n",
       "</style>\n",
       "<table border=\"1\" class=\"dataframe\">\n",
       "  <thead>\n",
       "    <tr style=\"text-align: right;\">\n",
       "      <th></th>\n",
       "      <th>headline</th>\n",
       "      <th>network</th>\n",
       "      <th>date</th>\n",
       "      <th>overall_duration</th>\n",
       "      <th>title</th>\n",
       "      <th>program_id</th>\n",
       "      <th>timestamps</th>\n",
       "      <th>start_time</th>\n",
       "      <th>end_time</th>\n",
       "      <th>duration</th>\n",
       "      <th>description</th>\n",
       "      <th>reporters</th>\n",
       "    </tr>\n",
       "  </thead>\n",
       "  <tbody>\n",
       "    <tr>\n",
       "      <td>18</td>\n",
       "      <td>NBC Evening News for 2018-03-31</td>\n",
       "      <td>NBC</td>\n",
       "      <td>2018-03-31</td>\n",
       "      <td>29 minutes long</td>\n",
       "      <td>St. Louis. Missouri / Easter Candy Art</td>\n",
       "      <td>1122695</td>\n",
       "      <td>05:56:50 pm — 05:59:00 pm</td>\n",
       "      <td>17:56:50</td>\n",
       "      <td>17:59:00</td>\n",
       "      <td>130</td>\n",
       "      <td>(Studio: Jose Diaz Balart)  Report introduced....</td>\n",
       "      <td>[Jose Diaz Balart, Kristin Dahlgren]</td>\n",
       "    </tr>\n",
       "    <tr>\n",
       "      <td>19</td>\n",
       "      <td>NBC Evening News for 2018-03-31</td>\n",
       "      <td>NBC</td>\n",
       "      <td>2018-03-31</td>\n",
       "      <td>29 minutes long</td>\n",
       "      <td>Good Night</td>\n",
       "      <td>1122696</td>\n",
       "      <td>05:59:00 pm — 05:59:00 pm</td>\n",
       "      <td>17:59:00</td>\n",
       "      <td>17:59:00</td>\n",
       "      <td>0</td>\n",
       "      <td></td>\n",
       "      <td>[]</td>\n",
       "    </tr>\n",
       "  </tbody>\n",
       "</table>\n",
       "</div>"
      ],
      "text/plain": [
       "                           headline network        date overall_duration  \\\n",
       "18  NBC Evening News for 2018-03-31     NBC  2018-03-31  29 minutes long   \n",
       "19  NBC Evening News for 2018-03-31     NBC  2018-03-31  29 minutes long   \n",
       "\n",
       "                                     title program_id  \\\n",
       "18  St. Louis. Missouri / Easter Candy Art    1122695   \n",
       "19                              Good Night    1122696   \n",
       "\n",
       "                   timestamps start_time  end_time  duration  \\\n",
       "18  05:56:50 pm — 05:59:00 pm   17:56:50  17:59:00       130   \n",
       "19  05:59:00 pm — 05:59:00 pm   17:59:00  17:59:00         0   \n",
       "\n",
       "                                          description  \\\n",
       "18  (Studio: Jose Diaz Balart)  Report introduced....   \n",
       "19                                                      \n",
       "\n",
       "                               reporters  \n",
       "18  [Jose Diaz Balart, Kristin Dahlgren]  \n",
       "19                                    []  "
      ]
     },
     "execution_count": 77,
     "metadata": {},
     "output_type": "execute_result"
    }
   ],
   "source": [
    "q1_df.tail(2)"
   ]
  },
  {
   "cell_type": "code",
   "execution_count": 70,
   "metadata": {},
   "outputs": [
    {
     "data": {
      "image/png": "[encoded data removed]",
      "text/plain": [
       "<Figure size 432x288 with 1 Axes>"
      ]
     },
     "metadata": {
      "needs_background": "light"
     },
     "output_type": "display_data"
    }
   ],
   "source": [
    "sns.lineplot(data=q1_df, x='date', y='duration', hue='network', err_style=None);"
   ]
  },
  {
   "cell_type": "code",
   "execution_count": 81,
   "metadata": {},
   "outputs": [
    {
     "data": {
      "text/html": [
       "<div>\n",
       "<style scoped>\n",
       "    .dataframe tbody tr th:only-of-type {\n",
       "        vertical-align: middle;\n",
       "    }\n",
       "\n",
       "    .dataframe tbody tr th {\n",
       "        vertical-align: top;\n",
       "    }\n",
       "\n",
       "    .dataframe thead th {\n",
       "        text-align: right;\n",
       "    }\n",
       "</style>\n",
       "<table border=\"1\" class=\"dataframe\">\n",
       "  <thead>\n",
       "    <tr style=\"text-align: right;\">\n",
       "      <th></th>\n",
       "      <th>network</th>\n",
       "      <th>date</th>\n",
       "      <th>duration</th>\n",
       "    </tr>\n",
       "  </thead>\n",
       "  <tbody>\n",
       "    <tr>\n",
       "      <td>0</td>\n",
       "      <td>ABC</td>\n",
       "      <td>2018-01-01</td>\n",
       "      <td>28.666667</td>\n",
       "    </tr>\n",
       "    <tr>\n",
       "      <td>1</td>\n",
       "      <td>ABC</td>\n",
       "      <td>2018-01-02</td>\n",
       "      <td>28.833333</td>\n",
       "    </tr>\n",
       "  </tbody>\n",
       "</table>\n",
       "</div>"
      ],
      "text/plain": [
       "  network        date   duration\n",
       "0     ABC  2018-01-01  28.666667\n",
       "1     ABC  2018-01-02  28.833333"
      ]
     },
     "execution_count": 81,
     "metadata": {},
     "output_type": "execute_result"
    }
   ],
   "source": [
    "q1_agg = q1_df.groupby(['network', 'date']).agg(get_duration)\n",
    "q1_agg = q1_agg.reset_index()\n",
    "q1_agg.head(2)"
   ]
  },
  {
   "cell_type": "code",
   "execution_count": 82,
   "metadata": {},
   "outputs": [
    {
     "data": {
      "image/png": "[encoded data removed]",
      "text/plain": [
       "<Figure size 432x288 with 1 Axes>"
      ]
     },
     "metadata": {
      "needs_background": "light"
     },
     "output_type": "display_data"
    }
   ],
   "source": [
    "sns.lineplot(data=q1_agg, x='date', y='duration', hue='network', err_style=None);"
   ]
  },
  {
   "cell_type": "code",
   "execution_count": null,
   "metadata": {},
   "outputs": [],
   "source": []
  },
  {
   "cell_type": "code",
   "execution_count": null,
   "metadata": {},
   "outputs": [],
   "source": []
  },
  {
   "cell_type": "code",
   "execution_count": null,
   "metadata": {},
   "outputs": [],
   "source": []
  },
  {
   "cell_type": "code",
   "execution_count": 61,
   "metadata": {},
   "outputs": [
    {
     "data": {
      "image/png": "[encoded data removed]",
      "text/plain": [
       "<Figure size 432x288 with 1 Axes>"
      ]
     },
     "metadata": {
      "needs_background": "light"
     },
     "output_type": "display_data"
    }
   ],
   "source": [
    "sns.lineplot(data=time_agg, x='date', y='duration', hue='network', err_style=None);"
   ]
  },
  {
   "cell_type": "code",
   "execution_count": null,
   "metadata": {},
   "outputs": [],
   "source": []
  },
  {
   "cell_type": "code",
   "execution_count": null,
   "metadata": {},
   "outputs": [],
   "source": []
  },
  {
   "cell_type": "code",
   "execution_count": null,
   "metadata": {},
   "outputs": [],
   "source": []
  },
  {
   "cell_type": "code",
   "execution_count": null,
   "metadata": {},
   "outputs": [],
   "source": []
  },
  {
   "cell_type": "code",
   "execution_count": 72,
   "metadata": {},
   "outputs": [
    {
     "data": {
      "text/plain": [
       "(737, 4)"
      ]
     },
     "execution_count": 72,
     "metadata": {},
     "output_type": "execute_result"
    }
   ],
   "source": [
    "time_agg.shape"
   ]
  },
  {
   "cell_type": "code",
   "execution_count": 74,
   "metadata": {},
   "outputs": [
    {
     "data": {
      "text/plain": [
       "network\n",
       "ABC    342\n",
       "CBS     52\n",
       "CNN    251\n",
       "NBC     92\n",
       "dtype: int64"
      ]
     },
     "execution_count": 74,
     "metadata": {},
     "output_type": "execute_result"
    }
   ],
   "source": [
    "time_agg.groupby('network').size()"
   ]
  },
  {
   "cell_type": "code",
   "execution_count": 61,
   "metadata": {
    "scrolled": true
   },
   "outputs": [
    {
     "data": {
      "image/png": "[encoded data removed]",
      "text/plain": [
       "<Figure size 432x288 with 1 Axes>"
      ]
     },
     "metadata": {
      "needs_background": "light"
     },
     "output_type": "display_data"
    }
   ],
   "source": [
    "sns.lineplot(data=time_agg, x='date', y='duration', hue='network', err_style=None);"
   ]
  },
  {
   "cell_type": "code",
   "execution_count": 75,
   "metadata": {},
   "outputs": [],
   "source": [
    "time_agg = time_agg.sort_values('date')"
   ]
  },
  {
   "cell_type": "code",
   "execution_count": 76,
   "metadata": {
    "scrolled": true
   },
   "outputs": [
    {
     "data": {
      "image/png": "[encoded data removed]",
      "text/plain": [
       "<Figure size 432x288 with 1 Axes>"
      ]
     },
     "metadata": {
      "needs_background": "light"
     },
     "output_type": "display_data"
    }
   ],
   "source": [
    "sns.lineplot(data=time_agg, x='date', y='duration', hue='network', err_style=None);"
   ]
  },
  {
   "cell_type": "code",
   "execution_count": null,
   "metadata": {},
   "outputs": [],
   "source": []
  },
  {
   "cell_type": "code",
   "execution_count": 69,
   "metadata": {},
   "outputs": [
    {
     "data": {
      "image/png": "[encoded data removed]",
      "text/plain": [
       "<Figure size 432x288 with 1 Axes>"
      ]
     },
     "metadata": {
      "needs_background": "light"
     },
     "output_type": "display_data"
    }
   ],
   "source": [
    "sns.lineplot(data=time_agg.loc[time_agg['network'] == 'CNN'], x='date', y='duration', err_style=None);"
   ]
  },
  {
   "cell_type": "code",
   "execution_count": 85,
   "metadata": {},
   "outputs": [
    {
     "data": {
      "text/plain": [
       "103.83333333333333"
      ]
     },
     "execution_count": 85,
     "metadata": {},
     "output_type": "execute_result"
    }
   ],
   "source": [
    "time_agg.loc[time_agg['network'] == 'CNN']['duration'].max()"
   ]
  },
  {
   "cell_type": "code",
   "execution_count": 86,
   "metadata": {},
   "outputs": [
    {
     "data": {
      "text/plain": [
       "18.666666666666668"
      ]
     },
     "execution_count": 86,
     "metadata": {},
     "output_type": "execute_result"
    }
   ],
   "source": [
    "time_agg.loc[time_agg['network'] == 'CNN']['duration'].min()"
   ]
  },
  {
   "cell_type": "code",
   "execution_count": 87,
   "metadata": {},
   "outputs": [
    {
     "data": {
      "text/html": [
       "<div>\n",
       "<style scoped>\n",
       "    .dataframe tbody tr th:only-of-type {\n",
       "        vertical-align: middle;\n",
       "    }\n",
       "\n",
       "    .dataframe tbody tr th {\n",
       "        vertical-align: top;\n",
       "    }\n",
       "\n",
       "    .dataframe thead th {\n",
       "        text-align: right;\n",
       "    }\n",
       "</style>\n",
       "<table border=\"1\" class=\"dataframe\">\n",
       "  <thead>\n",
       "    <tr style=\"text-align: right;\">\n",
       "      <th></th>\n",
       "      <th>network</th>\n",
       "      <th>date</th>\n",
       "      <th>overall_duration</th>\n",
       "      <th>duration</th>\n",
       "    </tr>\n",
       "  </thead>\n",
       "  <tbody>\n",
       "    <tr>\n",
       "      <td>451</td>\n",
       "      <td>CNN</td>\n",
       "      <td>2018-03-22</td>\n",
       "      <td>about 2 hours long</td>\n",
       "      <td>103.833333</td>\n",
       "    </tr>\n",
       "  </tbody>\n",
       "</table>\n",
       "</div>"
      ],
      "text/plain": [
       "    network        date    overall_duration    duration\n",
       "451     CNN  2018-03-22  about 2 hours long  103.833333"
      ]
     },
     "execution_count": 87,
     "metadata": {},
     "output_type": "execute_result"
    }
   ],
   "source": [
    "time_agg.loc[(time_agg['network'] == 'CNN') & (time_agg['duration'] > 100)]"
   ]
  },
  {
   "cell_type": "code",
   "execution_count": 95,
   "metadata": {},
   "outputs": [
    {
     "data": {
      "text/html": [
       "<div>\n",
       "<style scoped>\n",
       "    .dataframe tbody tr th:only-of-type {\n",
       "        vertical-align: middle;\n",
       "    }\n",
       "\n",
       "    .dataframe tbody tr th {\n",
       "        vertical-align: top;\n",
       "    }\n",
       "\n",
       "    .dataframe thead th {\n",
       "        text-align: right;\n",
       "    }\n",
       "</style>\n",
       "<table border=\"1\" class=\"dataframe\">\n",
       "  <thead>\n",
       "    <tr style=\"text-align: right;\">\n",
       "      <th></th>\n",
       "      <th>headline</th>\n",
       "      <th>network</th>\n",
       "      <th>date</th>\n",
       "      <th>overall_duration</th>\n",
       "      <th>title</th>\n",
       "      <th>program_id</th>\n",
       "      <th>timestamps</th>\n",
       "      <th>start_time</th>\n",
       "      <th>end_time</th>\n",
       "      <th>duration</th>\n",
       "      <th>description</th>\n",
       "      <th>reporters</th>\n",
       "    </tr>\n",
       "  </thead>\n",
       "  <tbody>\n",
       "    <tr>\n",
       "      <td>0</td>\n",
       "      <td>CNN Evening News for 2018-03-22</td>\n",
       "      <td>CNN</td>\n",
       "      <td>2018-03-22</td>\n",
       "      <td>about 2 hours long</td>\n",
       "      <td>Introduction/Preview\\tAnderson Cooper (New York)</td>\n",
       "      <td>1122232</td>\n",
       "      <td>07:00:10 pm — 07:01:20 pm</td>\n",
       "      <td>19:00:10</td>\n",
       "      <td>19:01:20</td>\n",
       "      <td>70</td>\n",
       "      <td>Note: This show contains the entire CNN excl...</td>\n",
       "      <td>[]</td>\n",
       "    </tr>\n",
       "    <tr>\n",
       "      <td>1</td>\n",
       "      <td>CNN Evening News for 2018-03-22</td>\n",
       "      <td>CNN</td>\n",
       "      <td>2018-03-22</td>\n",
       "      <td>about 2 hours long</td>\n",
       "      <td>Trump / National Security Adviser / A Discussion</td>\n",
       "      <td>1122233</td>\n",
       "      <td>07:01:20 pm — 07:11:30 pm</td>\n",
       "      <td>19:01:20</td>\n",
       "      <td>19:11:30</td>\n",
       "      <td>610</td>\n",
       "      <td>(Studio: Anderson Cooper)  President Trump's r...</td>\n",
       "      <td>[Anderson Cooper, Anderson Cooper; White House...</td>\n",
       "    </tr>\n",
       "    <tr>\n",
       "      <td>2</td>\n",
       "      <td>CNN Evening News for 2018-03-22</td>\n",
       "      <td>CNN</td>\n",
       "      <td>2018-03-22</td>\n",
       "      <td>about 2 hours long</td>\n",
       "      <td>Upcoming Items &amp; COMMERCIALS: T-Mobile; One-A-...</td>\n",
       "      <td>1122234</td>\n",
       "      <td>07:11:30 pm — 07:15:30 pm</td>\n",
       "      <td>19:11:30</td>\n",
       "      <td>19:15:30</td>\n",
       "      <td>240</td>\n",
       "      <td></td>\n",
       "      <td>[]</td>\n",
       "    </tr>\n",
       "    <tr>\n",
       "      <td>3</td>\n",
       "      <td>CNN Evening News for 2018-03-22</td>\n",
       "      <td>CNN</td>\n",
       "      <td>2018-03-22</td>\n",
       "      <td>about 2 hours long</td>\n",
       "      <td>Trump / McDougal Interview (Part I)</td>\n",
       "      <td>1122235</td>\n",
       "      <td>07:15:30 pm — 07:32:20 pm</td>\n",
       "      <td>19:15:30</td>\n",
       "      <td>19:32:20</td>\n",
       "      <td>1010</td>\n",
       "      <td>(Studio: Anderson Cooper)  The exclusive CNN i...</td>\n",
       "      <td>[Anderson Cooper]</td>\n",
       "    </tr>\n",
       "    <tr>\n",
       "      <td>4</td>\n",
       "      <td>CNN Evening News for 2018-03-22</td>\n",
       "      <td>CNN</td>\n",
       "      <td>2018-03-22</td>\n",
       "      <td>about 2 hours long</td>\n",
       "      <td>Upcoming Items &amp; COMMERCIALS: CNN \"The Kennedy...</td>\n",
       "      <td>1122236</td>\n",
       "      <td>07:32:20 pm — 07:36:10 pm</td>\n",
       "      <td>19:32:20</td>\n",
       "      <td>19:36:10</td>\n",
       "      <td>230</td>\n",
       "      <td></td>\n",
       "      <td>[]</td>\n",
       "    </tr>\n",
       "    <tr>\n",
       "      <td>5</td>\n",
       "      <td>CNN Evening News for 2018-03-22</td>\n",
       "      <td>CNN</td>\n",
       "      <td>2018-03-22</td>\n",
       "      <td>about 2 hours long</td>\n",
       "      <td>Trump / McDougal Interview (Part II)</td>\n",
       "      <td>1122237</td>\n",
       "      <td>07:36:10 pm — 07:42:10 pm</td>\n",
       "      <td>19:36:10</td>\n",
       "      <td>19:42:10</td>\n",
       "      <td>360</td>\n",
       "      <td>(Studio: Anderson Cooper)  The exclusive CNN i...</td>\n",
       "      <td>[Anderson Cooper]</td>\n",
       "    </tr>\n",
       "    <tr>\n",
       "      <td>6</td>\n",
       "      <td>CNN Evening News for 2018-03-22</td>\n",
       "      <td>CNN</td>\n",
       "      <td>2018-03-22</td>\n",
       "      <td>about 2 hours long</td>\n",
       "      <td>Upcoming Items &amp; COMMERCIALS: CNN \"Pope\"; Roun...</td>\n",
       "      <td>1122238</td>\n",
       "      <td>07:42:10 pm — 07:46:30 pm</td>\n",
       "      <td>19:42:10</td>\n",
       "      <td>19:46:30</td>\n",
       "      <td>260</td>\n",
       "      <td></td>\n",
       "      <td>[]</td>\n",
       "    </tr>\n",
       "    <tr>\n",
       "      <td>7</td>\n",
       "      <td>CNN Evening News for 2018-03-22</td>\n",
       "      <td>CNN</td>\n",
       "      <td>2018-03-22</td>\n",
       "      <td>about 2 hours long</td>\n",
       "      <td>Trump / McDougal Interview (Part III)</td>\n",
       "      <td>1122239</td>\n",
       "      <td>07:46:30 pm — 07:53:00 pm</td>\n",
       "      <td>19:46:30</td>\n",
       "      <td>19:53:00</td>\n",
       "      <td>390</td>\n",
       "      <td>(Studio: Anderson Cooper)  The exclusive CNN i...</td>\n",
       "      <td>[Anderson Cooper]</td>\n",
       "    </tr>\n",
       "    <tr>\n",
       "      <td>8</td>\n",
       "      <td>CNN Evening News for 2018-03-22</td>\n",
       "      <td>CNN</td>\n",
       "      <td>2018-03-22</td>\n",
       "      <td>about 2 hours long</td>\n",
       "      <td>Upcoming Items &amp; COMMERCIALS: T-Mobile; Flonas...</td>\n",
       "      <td>1122240</td>\n",
       "      <td>07:53:00 pm — 07:57:20 pm</td>\n",
       "      <td>19:53:00</td>\n",
       "      <td>19:57:20</td>\n",
       "      <td>260</td>\n",
       "      <td></td>\n",
       "      <td>[]</td>\n",
       "    </tr>\n",
       "    <tr>\n",
       "      <td>9</td>\n",
       "      <td>CNN Evening News for 2018-03-22</td>\n",
       "      <td>CNN</td>\n",
       "      <td>2018-03-22</td>\n",
       "      <td>about 2 hours long</td>\n",
       "      <td>Trump / McDougal Interview (Part IV)</td>\n",
       "      <td>1122241</td>\n",
       "      <td>07:57:20 pm — 08:15:00 pm</td>\n",
       "      <td>19:57:20</td>\n",
       "      <td>20:15:00</td>\n",
       "      <td>1060</td>\n",
       "      <td>(Studio: Anderson Cooper)  The exclusive CNN i...</td>\n",
       "      <td>[Anderson Cooper]</td>\n",
       "    </tr>\n",
       "    <tr>\n",
       "      <td>10</td>\n",
       "      <td>CNN Evening News for 2018-03-22</td>\n",
       "      <td>CNN</td>\n",
       "      <td>2018-03-22</td>\n",
       "      <td>about 2 hours long</td>\n",
       "      <td>Upcoming Items &amp; COMMERCIALS: Ruby Tuesday; Po...</td>\n",
       "      <td>1122242</td>\n",
       "      <td>08:15:00 pm — 08:18:50 pm</td>\n",
       "      <td>20:15:00</td>\n",
       "      <td>20:18:50</td>\n",
       "      <td>230</td>\n",
       "      <td></td>\n",
       "      <td>[]</td>\n",
       "    </tr>\n",
       "    <tr>\n",
       "      <td>11</td>\n",
       "      <td>CNN Evening News for 2018-03-22</td>\n",
       "      <td>CNN</td>\n",
       "      <td>2018-03-22</td>\n",
       "      <td>about 2 hours long</td>\n",
       "      <td>Trump / McDougal Interview (Part V)</td>\n",
       "      <td>1122243</td>\n",
       "      <td>08:18:50 pm — 08:23:20 pm</td>\n",
       "      <td>20:18:50</td>\n",
       "      <td>20:23:20</td>\n",
       "      <td>270</td>\n",
       "      <td>(Studio: Anderson Cooper)  The exclusive CNN i...</td>\n",
       "      <td>[Anderson Cooper]</td>\n",
       "    </tr>\n",
       "    <tr>\n",
       "      <td>12</td>\n",
       "      <td>CNN Evening News for 2018-03-22</td>\n",
       "      <td>CNN</td>\n",
       "      <td>2018-03-22</td>\n",
       "      <td>about 2 hours long</td>\n",
       "      <td>Upcoming Items &amp; COMMERCIALS: CNN \"Pope\"; Dire...</td>\n",
       "      <td>1122244</td>\n",
       "      <td>08:23:20 pm — 08:27:30 pm</td>\n",
       "      <td>20:23:20</td>\n",
       "      <td>20:27:30</td>\n",
       "      <td>250</td>\n",
       "      <td></td>\n",
       "      <td>[]</td>\n",
       "    </tr>\n",
       "    <tr>\n",
       "      <td>13</td>\n",
       "      <td>CNN Evening News for 2018-03-22</td>\n",
       "      <td>CNN</td>\n",
       "      <td>2018-03-22</td>\n",
       "      <td>about 2 hours long</td>\n",
       "      <td>Trump / McDougal Interview (Part VI)</td>\n",
       "      <td>1122245</td>\n",
       "      <td>08:27:30 pm — 08:32:00 pm</td>\n",
       "      <td>20:27:30</td>\n",
       "      <td>20:32:00</td>\n",
       "      <td>270</td>\n",
       "      <td>(Studio: Anderson Cooper)  The exclusive CNN i...</td>\n",
       "      <td>[Anderson Cooper]</td>\n",
       "    </tr>\n",
       "    <tr>\n",
       "      <td>14</td>\n",
       "      <td>CNN Evening News for 2018-03-22</td>\n",
       "      <td>CNN</td>\n",
       "      <td>2018-03-22</td>\n",
       "      <td>about 2 hours long</td>\n",
       "      <td>McDougal Interview / A Discussion</td>\n",
       "      <td>1122246</td>\n",
       "      <td>08:32:00 pm — 08:44:00 pm</td>\n",
       "      <td>20:32:00</td>\n",
       "      <td>20:44:00</td>\n",
       "      <td>720</td>\n",
       "      <td>(Studio: Anderson Cooper)  Live discussion hel...</td>\n",
       "      <td>[Anderson Cooper, she was relatable, how this ...</td>\n",
       "    </tr>\n",
       "    <tr>\n",
       "      <td>15</td>\n",
       "      <td>CNN Evening News for 2018-03-22</td>\n",
       "      <td>CNN</td>\n",
       "      <td>2018-03-22</td>\n",
       "      <td>about 2 hours long</td>\n",
       "      <td>End of McDougal interview segments</td>\n",
       "      <td>1122247</td>\n",
       "      <td>08:44:00 pm — 08:44:00 pm</td>\n",
       "      <td>20:44:00</td>\n",
       "      <td>20:44:00</td>\n",
       "      <td>0</td>\n",
       "      <td></td>\n",
       "      <td>[]</td>\n",
       "    </tr>\n",
       "  </tbody>\n",
       "</table>\n",
       "</div>"
      ],
      "text/plain": [
       "                           headline network        date    overall_duration  \\\n",
       "0   CNN Evening News for 2018-03-22     CNN  2018-03-22  about 2 hours long   \n",
       "1   CNN Evening News for 2018-03-22     CNN  2018-03-22  about 2 hours long   \n",
       "2   CNN Evening News for 2018-03-22     CNN  2018-03-22  about 2 hours long   \n",
       "3   CNN Evening News for 2018-03-22     CNN  2018-03-22  about 2 hours long   \n",
       "4   CNN Evening News for 2018-03-22     CNN  2018-03-22  about 2 hours long   \n",
       "5   CNN Evening News for 2018-03-22     CNN  2018-03-22  about 2 hours long   \n",
       "6   CNN Evening News for 2018-03-22     CNN  2018-03-22  about 2 hours long   \n",
       "7   CNN Evening News for 2018-03-22     CNN  2018-03-22  about 2 hours long   \n",
       "8   CNN Evening News for 2018-03-22     CNN  2018-03-22  about 2 hours long   \n",
       "9   CNN Evening News for 2018-03-22     CNN  2018-03-22  about 2 hours long   \n",
       "10  CNN Evening News for 2018-03-22     CNN  2018-03-22  about 2 hours long   \n",
       "11  CNN Evening News for 2018-03-22     CNN  2018-03-22  about 2 hours long   \n",
       "12  CNN Evening News for 2018-03-22     CNN  2018-03-22  about 2 hours long   \n",
       "13  CNN Evening News for 2018-03-22     CNN  2018-03-22  about 2 hours long   \n",
       "14  CNN Evening News for 2018-03-22     CNN  2018-03-22  about 2 hours long   \n",
       "15  CNN Evening News for 2018-03-22     CNN  2018-03-22  about 2 hours long   \n",
       "\n",
       "                                                title program_id  \\\n",
       "0    Introduction/Preview\\tAnderson Cooper (New York)    1122232   \n",
       "1    Trump / National Security Adviser / A Discussion    1122233   \n",
       "2   Upcoming Items & COMMERCIALS: T-Mobile; One-A-...    1122234   \n",
       "3                 Trump / McDougal Interview (Part I)    1122235   \n",
       "4   Upcoming Items & COMMERCIALS: CNN \"The Kennedy...    1122236   \n",
       "5                Trump / McDougal Interview (Part II)    1122237   \n",
       "6   Upcoming Items & COMMERCIALS: CNN \"Pope\"; Roun...    1122238   \n",
       "7               Trump / McDougal Interview (Part III)    1122239   \n",
       "8   Upcoming Items & COMMERCIALS: T-Mobile; Flonas...    1122240   \n",
       "9                Trump / McDougal Interview (Part IV)    1122241   \n",
       "10  Upcoming Items & COMMERCIALS: Ruby Tuesday; Po...    1122242   \n",
       "11                Trump / McDougal Interview (Part V)    1122243   \n",
       "12  Upcoming Items & COMMERCIALS: CNN \"Pope\"; Dire...    1122244   \n",
       "13               Trump / McDougal Interview (Part VI)    1122245   \n",
       "14                  McDougal Interview / A Discussion    1122246   \n",
       "15                 End of McDougal interview segments    1122247   \n",
       "\n",
       "                   timestamps start_time  end_time  duration  \\\n",
       "0   07:00:10 pm — 07:01:20 pm   19:00:10  19:01:20        70   \n",
       "1   07:01:20 pm — 07:11:30 pm   19:01:20  19:11:30       610   \n",
       "2   07:11:30 pm — 07:15:30 pm   19:11:30  19:15:30       240   \n",
       "3   07:15:30 pm — 07:32:20 pm   19:15:30  19:32:20      1010   \n",
       "4   07:32:20 pm — 07:36:10 pm   19:32:20  19:36:10       230   \n",
       "5   07:36:10 pm — 07:42:10 pm   19:36:10  19:42:10       360   \n",
       "6   07:42:10 pm — 07:46:30 pm   19:42:10  19:46:30       260   \n",
       "7   07:46:30 pm — 07:53:00 pm   19:46:30  19:53:00       390   \n",
       "8   07:53:00 pm — 07:57:20 pm   19:53:00  19:57:20       260   \n",
       "9   07:57:20 pm — 08:15:00 pm   19:57:20  20:15:00      1060   \n",
       "10  08:15:00 pm — 08:18:50 pm   20:15:00  20:18:50       230   \n",
       "11  08:18:50 pm — 08:23:20 pm   20:18:50  20:23:20       270   \n",
       "12  08:23:20 pm — 08:27:30 pm   20:23:20  20:27:30       250   \n",
       "13  08:27:30 pm — 08:32:00 pm   20:27:30  20:32:00       270   \n",
       "14  08:32:00 pm — 08:44:00 pm   20:32:00  20:44:00       720   \n",
       "15  08:44:00 pm — 08:44:00 pm   20:44:00  20:44:00         0   \n",
       "\n",
       "                                          description  \\\n",
       "0     Note: This show contains the entire CNN excl...   \n",
       "1   (Studio: Anderson Cooper)  President Trump's r...   \n",
       "2                                                       \n",
       "3   (Studio: Anderson Cooper)  The exclusive CNN i...   \n",
       "4                                                       \n",
       "5   (Studio: Anderson Cooper)  The exclusive CNN i...   \n",
       "6                                                       \n",
       "7   (Studio: Anderson Cooper)  The exclusive CNN i...   \n",
       "8                                                       \n",
       "9   (Studio: Anderson Cooper)  The exclusive CNN i...   \n",
       "10                                                      \n",
       "11  (Studio: Anderson Cooper)  The exclusive CNN i...   \n",
       "12                                                      \n",
       "13  (Studio: Anderson Cooper)  The exclusive CNN i...   \n",
       "14  (Studio: Anderson Cooper)  Live discussion hel...   \n",
       "15                                                      \n",
       "\n",
       "                                            reporters  \n",
       "0                                                  []  \n",
       "1   [Anderson Cooper, Anderson Cooper; White House...  \n",
       "2                                                  []  \n",
       "3                                   [Anderson Cooper]  \n",
       "4                                                  []  \n",
       "5                                   [Anderson Cooper]  \n",
       "6                                                  []  \n",
       "7                                   [Anderson Cooper]  \n",
       "8                                                  []  \n",
       "9                                   [Anderson Cooper]  \n",
       "10                                                 []  \n",
       "11                                  [Anderson Cooper]  \n",
       "12                                                 []  \n",
       "13                                  [Anderson Cooper]  \n",
       "14  [Anderson Cooper, she was relatable, how this ...  \n",
       "15                                                 []  "
      ]
     },
     "execution_count": 95,
     "metadata": {},
     "output_type": "execute_result"
    }
   ],
   "source": [
    "q1_df.loc[(q1_df['network'] == 'CNN') & (q1_df['date'] == '2018-03-22')]"
   ]
  },
  {
   "cell_type": "code",
   "execution_count": 101,
   "metadata": {},
   "outputs": [
    {
     "data": {
      "text/plain": [
       "(2523, 12)"
      ]
     },
     "execution_count": 101,
     "metadata": {},
     "output_type": "execute_result"
    }
   ],
   "source": [
    "df.loc[df['title'].str.contains('COMMERCIALS')].shape"
   ]
  },
  {
   "cell_type": "code",
   "execution_count": 103,
   "metadata": {},
   "outputs": [
    {
     "data": {
      "text/html": [
       "<div>\n",
       "<style scoped>\n",
       "    .dataframe tbody tr th:only-of-type {\n",
       "        vertical-align: middle;\n",
       "    }\n",
       "\n",
       "    .dataframe tbody tr th {\n",
       "        vertical-align: top;\n",
       "    }\n",
       "\n",
       "    .dataframe thead th {\n",
       "        text-align: right;\n",
       "    }\n",
       "</style>\n",
       "<table border=\"1\" class=\"dataframe\">\n",
       "  <thead>\n",
       "    <tr style=\"text-align: right;\">\n",
       "      <th></th>\n",
       "      <th>headline</th>\n",
       "      <th>network</th>\n",
       "      <th>date</th>\n",
       "      <th>overall_duration</th>\n",
       "      <th>title</th>\n",
       "      <th>program_id</th>\n",
       "      <th>timestamps</th>\n",
       "      <th>start_time</th>\n",
       "      <th>end_time</th>\n",
       "      <th>duration</th>\n",
       "      <th>description</th>\n",
       "      <th>reporters</th>\n",
       "    </tr>\n",
       "  </thead>\n",
       "  <tbody>\n",
       "    <tr>\n",
       "      <td>8</td>\n",
       "      <td>ABC Evening News for 2018-01-01</td>\n",
       "      <td>ABC</td>\n",
       "      <td>2018-01-01</td>\n",
       "      <td>29 minutes long</td>\n",
       "      <td>Upcoming Items &amp; COMMERCIALS: Walgreens; Pom W...</td>\n",
       "      <td>1119342</td>\n",
       "      <td>05:45:10 pm — 05:47:40 pm</td>\n",
       "      <td>17:45:10</td>\n",
       "      <td>17:47:40</td>\n",
       "      <td>150</td>\n",
       "      <td></td>\n",
       "      <td>[]</td>\n",
       "    </tr>\n",
       "    <tr>\n",
       "      <td>10</td>\n",
       "      <td>ABC Evening News for 2018-01-01</td>\n",
       "      <td>ABC</td>\n",
       "      <td>2018-01-01</td>\n",
       "      <td>29 minutes long</td>\n",
       "      <td>Upcoming Items &amp; COMMERCIALS: Lyrica; Allstate...</td>\n",
       "      <td>1119344</td>\n",
       "      <td>05:49:00 pm — 05:52:30 pm</td>\n",
       "      <td>17:49:00</td>\n",
       "      <td>17:52:30</td>\n",
       "      <td>210</td>\n",
       "      <td></td>\n",
       "      <td>[]</td>\n",
       "    </tr>\n",
       "  </tbody>\n",
       "</table>\n",
       "</div>"
      ],
      "text/plain": [
       "                           headline network        date overall_duration  \\\n",
       "8   ABC Evening News for 2018-01-01     ABC  2018-01-01  29 minutes long   \n",
       "10  ABC Evening News for 2018-01-01     ABC  2018-01-01  29 minutes long   \n",
       "\n",
       "                                                title program_id  \\\n",
       "8   Upcoming Items & COMMERCIALS: Walgreens; Pom W...    1119342   \n",
       "10  Upcoming Items & COMMERCIALS: Lyrica; Allstate...    1119344   \n",
       "\n",
       "                   timestamps start_time  end_time  duration description  \\\n",
       "8   05:45:10 pm — 05:47:40 pm   17:45:10  17:47:40       150               \n",
       "10  05:49:00 pm — 05:52:30 pm   17:49:00  17:52:30       210               \n",
       "\n",
       "   reporters  \n",
       "8         []  \n",
       "10        []  "
      ]
     },
     "execution_count": 103,
     "metadata": {},
     "output_type": "execute_result"
    }
   ],
   "source": [
    "df.loc[df['title'].str.contains('COMMERCIALS')].head(2)"
   ]
  },
  {
   "cell_type": "code",
   "execution_count": 104,
   "metadata": {},
   "outputs": [
    {
     "data": {
      "text/plain": [
       "(10223, 12)"
      ]
     },
     "execution_count": 104,
     "metadata": {},
     "output_type": "execute_result"
    }
   ],
   "source": [
    "df.shape"
   ]
  },
  {
   "cell_type": "code",
   "execution_count": 105,
   "metadata": {},
   "outputs": [
    {
     "data": {
      "text/plain": [
       "[]                                                          4016\n",
       "[David Muir]                                                 701\n",
       "[Anderson Cooper]                                            413\n",
       "[Tom Llamas]                                                 268\n",
       "[Anderson Cooper, Anderson Cooper]                           144\n",
       "                                                            ... \n",
       "[David Muir, White House]                                      1\n",
       "[Anderson Cooper, Anderson Cooper; Calexico, California]       1\n",
       "[Savannah Guthrie, Bill Neely]                                 1\n",
       "[Anderson Cooper, a total witch hunt.]  \\n\\n(Studio]           1\n",
       "[Elaine Quijano, Ben Tracy, Elaine Quijano, Meg Oliver]        1\n",
       "Name: reporters, Length: 1438, dtype: int64"
      ]
     },
     "execution_count": 105,
     "metadata": {},
     "output_type": "execute_result"
    }
   ],
   "source": [
    "df['reporters'].value_counts()"
   ]
  },
  {
   "cell_type": "code",
   "execution_count": 107,
   "metadata": {},
   "outputs": [
    {
     "data": {
      "text/html": [
       "<div>\n",
       "<style scoped>\n",
       "    .dataframe tbody tr th:only-of-type {\n",
       "        vertical-align: middle;\n",
       "    }\n",
       "\n",
       "    .dataframe tbody tr th {\n",
       "        vertical-align: top;\n",
       "    }\n",
       "\n",
       "    .dataframe thead th {\n",
       "        text-align: right;\n",
       "    }\n",
       "</style>\n",
       "<table border=\"1\" class=\"dataframe\">\n",
       "  <thead>\n",
       "    <tr style=\"text-align: right;\">\n",
       "      <th></th>\n",
       "      <th>reporters</th>\n",
       "    </tr>\n",
       "  </thead>\n",
       "  <tbody>\n",
       "    <tr>\n",
       "      <td>0</td>\n",
       "      <td>[]</td>\n",
       "    </tr>\n",
       "    <tr>\n",
       "      <td>1</td>\n",
       "      <td>[Tom Llamas, Erielle Reshef, Tom Llamas, Ginge...</td>\n",
       "    </tr>\n",
       "    <tr>\n",
       "      <td>2</td>\n",
       "      <td>[Tom Llamas, Adrienne Bankert]</td>\n",
       "    </tr>\n",
       "  </tbody>\n",
       "</table>\n",
       "</div>"
      ],
      "text/plain": [
       "                                           reporters\n",
       "0                                                 []\n",
       "1  [Tom Llamas, Erielle Reshef, Tom Llamas, Ginge...\n",
       "2                     [Tom Llamas, Adrienne Bankert]"
      ]
     },
     "execution_count": 107,
     "metadata": {},
     "output_type": "execute_result"
    }
   ],
   "source": [
    "report_test = df[['reporters']]\n",
    "report_test.head(3)"
   ]
  },
  {
   "cell_type": "code",
   "execution_count": 116,
   "metadata": {},
   "outputs": [
    {
     "data": {
      "text/plain": [
       "(6207, 1)"
      ]
     },
     "execution_count": 116,
     "metadata": {},
     "output_type": "execute_result"
    }
   ],
   "source": [
    "report_test.loc[report_test['reporters'].map(lambda d: len(d)) > 0]"
   ]
  },
  {
   "cell_type": "code",
   "execution_count": 117,
   "metadata": {},
   "outputs": [
    {
     "data": {
      "text/html": [
       "<div>\n",
       "<style scoped>\n",
       "    .dataframe tbody tr th:only-of-type {\n",
       "        vertical-align: middle;\n",
       "    }\n",
       "\n",
       "    .dataframe tbody tr th {\n",
       "        vertical-align: top;\n",
       "    }\n",
       "\n",
       "    .dataframe thead th {\n",
       "        text-align: right;\n",
       "    }\n",
       "</style>\n",
       "<table border=\"1\" class=\"dataframe\">\n",
       "  <thead>\n",
       "    <tr style=\"text-align: right;\">\n",
       "      <th></th>\n",
       "      <th>reporters</th>\n",
       "    </tr>\n",
       "  </thead>\n",
       "  <tbody>\n",
       "    <tr>\n",
       "      <td>1</td>\n",
       "      <td>[Tom Llamas, Erielle Reshef, Tom Llamas, Ginge...</td>\n",
       "    </tr>\n",
       "    <tr>\n",
       "      <td>2</td>\n",
       "      <td>[Tom Llamas, Adrienne Bankert]</td>\n",
       "    </tr>\n",
       "    <tr>\n",
       "      <td>3</td>\n",
       "      <td>[Tom Llamas, Clayton Sandell]</td>\n",
       "    </tr>\n",
       "  </tbody>\n",
       "</table>\n",
       "</div>"
      ],
      "text/plain": [
       "                                           reporters\n",
       "1  [Tom Llamas, Erielle Reshef, Tom Llamas, Ginge...\n",
       "2                     [Tom Llamas, Adrienne Bankert]\n",
       "3                      [Tom Llamas, Clayton Sandell]"
      ]
     },
     "execution_count": 117,
     "metadata": {},
     "output_type": "execute_result"
    }
   ],
   "source": [
    "report_test = report_test.loc[report_test['reporters'].map(lambda d: len(d)) > 0]\n",
    "report_test.head(3)"
   ]
  },
  {
   "cell_type": "code",
   "execution_count": 118,
   "metadata": {},
   "outputs": [
    {
     "data": {
      "text/html": [
       "<div>\n",
       "<style scoped>\n",
       "    .dataframe tbody tr th:only-of-type {\n",
       "        vertical-align: middle;\n",
       "    }\n",
       "\n",
       "    .dataframe tbody tr th {\n",
       "        vertical-align: top;\n",
       "    }\n",
       "\n",
       "    .dataframe thead th {\n",
       "        text-align: right;\n",
       "    }\n",
       "</style>\n",
       "<table border=\"1\" class=\"dataframe\">\n",
       "  <thead>\n",
       "    <tr style=\"text-align: right;\">\n",
       "      <th></th>\n",
       "      <th>reporters</th>\n",
       "    </tr>\n",
       "  </thead>\n",
       "  <tbody>\n",
       "    <tr>\n",
       "      <td>9</td>\n",
       "      <td>[Tom Llamas]</td>\n",
       "    </tr>\n",
       "    <tr>\n",
       "      <td>10</td>\n",
       "      <td>[Tom Llamas]</td>\n",
       "    </tr>\n",
       "    <tr>\n",
       "      <td>12</td>\n",
       "      <td>[Tom Llamas, Clayton Sandell]</td>\n",
       "    </tr>\n",
       "    <tr>\n",
       "      <td>14</td>\n",
       "      <td>[Tom Llamas]</td>\n",
       "    </tr>\n",
       "    <tr>\n",
       "      <td>16</td>\n",
       "      <td>[Tom Llamas]</td>\n",
       "    </tr>\n",
       "  </tbody>\n",
       "</table>\n",
       "</div>"
      ],
      "text/plain": [
       "                        reporters\n",
       "9                    [Tom Llamas]\n",
       "10                   [Tom Llamas]\n",
       "12  [Tom Llamas, Clayton Sandell]\n",
       "14                   [Tom Llamas]\n",
       "16                   [Tom Llamas]"
      ]
     },
     "execution_count": 118,
     "metadata": {},
     "output_type": "execute_result"
    }
   ],
   "source": [
    "report_test.tail()"
   ]
  },
  {
   "cell_type": "code",
   "execution_count": 124,
   "metadata": {},
   "outputs": [
    {
     "data": {
      "text/plain": [
       "(6207, 1)"
      ]
     },
     "execution_count": 124,
     "metadata": {},
     "output_type": "execute_result"
    }
   ],
   "source": [
    "report_test.shape"
   ]
  },
  {
   "cell_type": "code",
   "execution_count": 125,
   "metadata": {},
   "outputs": [
    {
     "data": {
      "text/plain": [
       "(6156342, 1)"
      ]
     },
     "execution_count": 125,
     "metadata": {},
     "output_type": "execute_result"
    }
   ],
   "source": [
    "report_test.explode('reporters').shape"
   ]
  },
  {
   "cell_type": "code",
   "execution_count": 129,
   "metadata": {},
   "outputs": [
    {
     "data": {
      "text/plain": [
       "(6156342, 1)"
      ]
     },
     "execution_count": 129,
     "metadata": {},
     "output_type": "execute_result"
    }
   ],
   "source": [
    "exploded_reporters = report_test.explode('reporters')\n",
    "exploded_reporters.shape"
   ]
  },
  {
   "cell_type": "code",
   "execution_count": 130,
   "metadata": {},
   "outputs": [
    {
     "data": {
      "text/plain": [
       "David Muir                                                                                                                                                                                                                                                                                                                                                                                                            1120502\n",
       "Anderson Cooper                                                                                                                                                                                                                                                                                                                                                                                                        923041\n",
       "Tom Llamas                                                                                                                                                                                                                                                                                                                                                                                                             539222\n",
       "Kate Snow                                                                                                                                                                                                                                                                                                                                                                                                              232484\n",
       "Jose Diaz Balart                                                                                                                                                                                                                                                                                                                                                                                                       158422\n",
       "                                                                                                                                                                                                                                                                                                                                                                                                                       ...   \n",
       "Blayne Alexander                                                                                                                                                                                                                                                                                                                                                                                                           67\n",
       "Kirsten Dalgren                                                                                                                                                                                                                                                                                                                                                                                                            24\n",
       "no apology, the private apology from Sadler to the McCains discussed  \\n\\n(Studio                                                                                                                                                                                                                                                                                                                                           6\n",
       "that \"he is dying anyway\" introduced; A tweet from wife Cindy McCain to Sadler quoted.  [On \"The View,\" daughter Meghan McCAIN&nbsp- talks about Sadler still having a job.]  [White House press secretary Sarah Huckabee Sanders&nbsp- refuses to answer reporters' questions about Sadler.]  What Trump has said about respect introduced.  [Eight times, TRUMP&nbsp- criticizes different people.]  \\n\\n(Studio          6\n",
       "3120Tropical Storm Gordon  \\n\\n(Studio                                                                                                                                                                                                                                                                                                                                                                                      6\n",
       "Name: reporters, Length: 806, dtype: int64"
      ]
     },
     "execution_count": 130,
     "metadata": {},
     "output_type": "execute_result"
    }
   ],
   "source": [
    "exploded_reporters['reporters'].value_counts()"
   ]
  },
  {
   "cell_type": "code",
   "execution_count": 132,
   "metadata": {},
   "outputs": [
    {
     "data": {
      "text/plain": [
       "(126016, 1)"
      ]
     },
     "execution_count": 132,
     "metadata": {},
     "output_type": "execute_result"
    }
   ],
   "source": [
    "exploded_reporters.loc[exploded_reporters['reporters'].str.contains('\\n')].shape"
   ]
  },
  {
   "cell_type": "code",
   "execution_count": 133,
   "metadata": {},
   "outputs": [
    {
     "data": {
      "text/plain": [
       "(6030326, 1)"
      ]
     },
     "execution_count": 133,
     "metadata": {},
     "output_type": "execute_result"
    }
   ],
   "source": [
    "exploded_reporters.loc[~(exploded_reporters['reporters'].str.contains('\\n'))].shape"
   ]
  },
  {
   "cell_type": "code",
   "execution_count": 134,
   "metadata": {},
   "outputs": [],
   "source": [
    "real_explode = exploded_reporters.loc[~(exploded_reporters['reporters'].str.contains('\\n'))]"
   ]
  },
  {
   "cell_type": "code",
   "execution_count": 136,
   "metadata": {},
   "outputs": [
    {
     "data": {
      "text/plain": [
       "(2779, 1)"
      ]
     },
     "execution_count": 136,
     "metadata": {},
     "output_type": "execute_result"
    }
   ],
   "source": [
    "real_explode.loc[real_explode['reporters'].str.contains('\"')].shape"
   ]
  },
  {
   "cell_type": "code",
   "execution_count": 137,
   "metadata": {},
   "outputs": [
    {
     "data": {
      "text/plain": [
       "(6027547, 1)"
      ]
     },
     "execution_count": 137,
     "metadata": {},
     "output_type": "execute_result"
    }
   ],
   "source": [
    "real_explode.loc[~(real_explode['reporters'].str.contains('\"'))].shape"
   ]
  },
  {
   "cell_type": "code",
   "execution_count": 138,
   "metadata": {},
   "outputs": [],
   "source": [
    "real_explode = real_explode.loc[~(real_explode['reporters'].str.contains('\"'))]"
   ]
  },
  {
   "cell_type": "code",
   "execution_count": 139,
   "metadata": {},
   "outputs": [
    {
     "data": {
      "text/plain": [
       "(6027547, 1)"
      ]
     },
     "execution_count": 139,
     "metadata": {},
     "output_type": "execute_result"
    }
   ],
   "source": [
    "real_explode.shape"
   ]
  },
  {
   "cell_type": "code",
   "execution_count": 142,
   "metadata": {},
   "outputs": [
    {
     "data": {
      "text/html": [
       "<div>\n",
       "<style scoped>\n",
       "    .dataframe tbody tr th:only-of-type {\n",
       "        vertical-align: middle;\n",
       "    }\n",
       "\n",
       "    .dataframe tbody tr th {\n",
       "        vertical-align: top;\n",
       "    }\n",
       "\n",
       "    .dataframe thead th {\n",
       "        text-align: right;\n",
       "    }\n",
       "</style>\n",
       "<table border=\"1\" class=\"dataframe\">\n",
       "  <thead>\n",
       "    <tr style=\"text-align: right;\">\n",
       "      <th></th>\n",
       "      <th>reporters</th>\n",
       "    </tr>\n",
       "  </thead>\n",
       "  <tbody>\n",
       "    <tr>\n",
       "      <td>0</td>\n",
       "      <td>Kate Snow</td>\n",
       "    </tr>\n",
       "    <tr>\n",
       "      <td>0</td>\n",
       "      <td>Lucy Kafanov</td>\n",
       "    </tr>\n",
       "    <tr>\n",
       "      <td>0</td>\n",
       "      <td>Elaine Quijano</td>\n",
       "    </tr>\n",
       "    <tr>\n",
       "      <td>0</td>\n",
       "      <td>Carter Evans</td>\n",
       "    </tr>\n",
       "    <tr>\n",
       "      <td>0</td>\n",
       "      <td>John Berman</td>\n",
       "    </tr>\n",
       "    <tr>\n",
       "      <td>0</td>\n",
       "      <td>Kate Snow</td>\n",
       "    </tr>\n",
       "    <tr>\n",
       "      <td>0</td>\n",
       "      <td>Anne Thompson</td>\n",
       "    </tr>\n",
       "    <tr>\n",
       "      <td>0</td>\n",
       "      <td>Victor Oquendo</td>\n",
       "    </tr>\n",
       "    <tr>\n",
       "      <td>0</td>\n",
       "      <td>Tom Llamas; Ft. Lee, New Jersey</td>\n",
       "    </tr>\n",
       "    <tr>\n",
       "      <td>0</td>\n",
       "      <td>Anderson Cooper</td>\n",
       "    </tr>\n",
       "  </tbody>\n",
       "</table>\n",
       "</div>"
      ],
      "text/plain": [
       "                         reporters\n",
       "0                        Kate Snow\n",
       "0                     Lucy Kafanov\n",
       "0                   Elaine Quijano\n",
       "0                     Carter Evans\n",
       "0                      John Berman\n",
       "0                        Kate Snow\n",
       "0                    Anne Thompson\n",
       "0                   Victor Oquendo\n",
       "0  Tom Llamas; Ft. Lee, New Jersey\n",
       "0                  Anderson Cooper"
      ]
     },
     "execution_count": 142,
     "metadata": {},
     "output_type": "execute_result"
    }
   ],
   "source": [
    "real_explode.head(10)"
   ]
  },
  {
   "cell_type": "code",
   "execution_count": 144,
   "metadata": {},
   "outputs": [
    {
     "data": {
      "text/plain": [
       "David Muir          1120502\n",
       "Anderson Cooper      923041\n",
       "Tom Llamas           539222\n",
       "Kate Snow            232484\n",
       "Jose Diaz Balart     158422\n",
       "                     ...   \n",
       "Dave Gura               179\n",
       "Jim Axelrod             134\n",
       "Chris Connelly          133\n",
       "Blayne Alexander         67\n",
       "Kirsten Dalgren          24\n",
       "Name: reporters, Length: 602, dtype: int64"
      ]
     },
     "execution_count": 144,
     "metadata": {},
     "output_type": "execute_result"
    }
   ],
   "source": [
    "real_explode['reporters'].value_counts()"
   ]
  },
  {
   "cell_type": "code",
   "execution_count": 145,
   "metadata": {},
   "outputs": [
    {
     "data": {
      "text/plain": [
       "(371824, 1)"
      ]
     },
     "execution_count": 145,
     "metadata": {},
     "output_type": "execute_result"
    }
   ],
   "source": [
    "real_explode.loc[real_explode['reporters'].str.contains(';')].shape"
   ]
  },
  {
   "cell_type": "code",
   "execution_count": 146,
   "metadata": {},
   "outputs": [
    {
     "data": {
      "text/html": [
       "<div>\n",
       "<style scoped>\n",
       "    .dataframe tbody tr th:only-of-type {\n",
       "        vertical-align: middle;\n",
       "    }\n",
       "\n",
       "    .dataframe tbody tr th {\n",
       "        vertical-align: top;\n",
       "    }\n",
       "\n",
       "    .dataframe thead th {\n",
       "        text-align: right;\n",
       "    }\n",
       "</style>\n",
       "<table border=\"1\" class=\"dataframe\">\n",
       "  <thead>\n",
       "    <tr style=\"text-align: right;\">\n",
       "      <th></th>\n",
       "      <th>reporters</th>\n",
       "    </tr>\n",
       "  </thead>\n",
       "  <tbody>\n",
       "    <tr>\n",
       "      <td>0</td>\n",
       "      <td>Tom Llamas; Ft. Lee, New Jersey</td>\n",
       "    </tr>\n",
       "    <tr>\n",
       "      <td>0</td>\n",
       "      <td>Anderson Cooper; White House</td>\n",
       "    </tr>\n",
       "    <tr>\n",
       "      <td>0</td>\n",
       "      <td>Tom Llamas; Ft. Lee, New Jersey</td>\n",
       "    </tr>\n",
       "    <tr>\n",
       "      <td>0</td>\n",
       "      <td>Anderson Cooper; White House</td>\n",
       "    </tr>\n",
       "    <tr>\n",
       "      <td>0</td>\n",
       "      <td>Tom Llamas; Ft. Lee, New Jersey</td>\n",
       "    </tr>\n",
       "  </tbody>\n",
       "</table>\n",
       "</div>"
      ],
      "text/plain": [
       "                         reporters\n",
       "0  Tom Llamas; Ft. Lee, New Jersey\n",
       "0     Anderson Cooper; White House\n",
       "0  Tom Llamas; Ft. Lee, New Jersey\n",
       "0     Anderson Cooper; White House\n",
       "0  Tom Llamas; Ft. Lee, New Jersey"
      ]
     },
     "execution_count": 146,
     "metadata": {},
     "output_type": "execute_result"
    }
   ],
   "source": [
    "real_explode.loc[real_explode['reporters'].str.contains(';')].head()"
   ]
  },
  {
   "cell_type": "code",
   "execution_count": 147,
   "metadata": {},
   "outputs": [
    {
     "data": {
      "text/plain": [
       "Anderson Cooper; White House         68401\n",
       "Anderson Cooper; Washington          59848\n",
       "David Muir; New York                 30373\n",
       "Anderson Cooper; Capitol Hill        15343\n",
       "Anderson Cooper; New York            10650\n",
       "                                     ...  \n",
       "Anderson Cooper; Southport             349\n",
       "Anderson Cooper; Toronto               285\n",
       "Anderson Cooper; Benton, Kentucky      285\n",
       "Anderson Cooper;Boston                 252\n",
       "Anderson Cooper; San Juan              252\n",
       "Name: reporters, Length: 153, dtype: int64"
      ]
     },
     "execution_count": 147,
     "metadata": {},
     "output_type": "execute_result"
    }
   ],
   "source": [
    "real_explode.loc[real_explode['reporters'].str.contains(';')]['reporters'].value_counts()"
   ]
  },
  {
   "cell_type": "code",
   "execution_count": 148,
   "metadata": {},
   "outputs": [],
   "source": [
    "def fix_reporter(cell):\n",
    "    return cell.split(';')[0]"
   ]
  },
  {
   "cell_type": "code",
   "execution_count": 149,
   "metadata": {
    "scrolled": true
   },
   "outputs": [
    {
     "data": {
      "text/plain": [
       "Anderson Cooper                                                                                                                                                                                  230165\n",
       "David Muir                                                                                                                                                                                        66039\n",
       "John Berman                                                                                                                                                                                       26415\n",
       "Tom Llamas                                                                                                                                                                                        18041\n",
       "Jim Sciutto                                                                                                                                                                                       13149\n",
       "Lester Holt                                                                                                                                                                                        2202\n",
       "Jose Diaz Balart                                                                                                                                                                                   1902\n",
       "Whit Johnson                                                                                                                                                                                       1888\n",
       "Kate Snow                                                                                                                                                                                          1468\n",
       "Elaine Quijano                                                                                                                                                                                     1206\n",
       "Cecilia Vega                                                                                                                                                                                       1154\n",
       "they are refugees, not financed criminals                                                                                                                                                           734\n",
       "Wolf Blitzer                                                                                                                                                                                        734\n",
       "a strong denial.]  [PUTIN&nbsp- {thru reporter's translation} says he wanted Trump to win                                                                                                           734\n",
       "the abductees, China's interests in the status quo.]  [CNN global affairs analyst Ambassador Joseph YUN- calls this a momentous day, the importance of personal chemistry of the two leaders       734\n",
       "John Berman, Maggie Haberman                                                                                                                                                                        734\n",
       "they are bad politicians with horrible policies                                                                                                                                                     734\n",
       "John Berman, Gloria Borger                                                                                                                                                                          734\n",
       "[July 12, 16, 2017, Trump lawyer Jay SEKULOW                                                                                                                                                       695\n",
       "DeMarco Morgan                                                                                                                                                                                      695\n",
       "Reena Ninan                                                                                                                                                                                         695\n",
       "they will be arrested                                                                                                                                                                               513\n",
       "David M uir                                                                                                                                                                                         459\n",
       "Name: reporters, dtype: int64"
      ]
     },
     "execution_count": 149,
     "metadata": {},
     "output_type": "execute_result"
    }
   ],
   "source": [
    "real_explode.loc[real_explode['reporters'].str.contains(';')]['reporters'].apply(fix_reporter).value_counts()"
   ]
  },
  {
   "cell_type": "code",
   "execution_count": 150,
   "metadata": {},
   "outputs": [
    {
     "data": {
      "text/plain": [
       "(5331820, 1)"
      ]
     },
     "execution_count": 150,
     "metadata": {},
     "output_type": "execute_result"
    }
   ],
   "source": [
    "real_explode.loc[real_explode['reporters'].map(lambda d: len(d.split())) == 2].shape"
   ]
  },
  {
   "cell_type": "code",
   "execution_count": 152,
   "metadata": {},
   "outputs": [
    {
     "data": {
      "text/html": [
       "<div>\n",
       "<style scoped>\n",
       "    .dataframe tbody tr th:only-of-type {\n",
       "        vertical-align: middle;\n",
       "    }\n",
       "\n",
       "    .dataframe tbody tr th {\n",
       "        vertical-align: top;\n",
       "    }\n",
       "\n",
       "    .dataframe thead th {\n",
       "        text-align: right;\n",
       "    }\n",
       "</style>\n",
       "<table border=\"1\" class=\"dataframe\">\n",
       "  <thead>\n",
       "    <tr style=\"text-align: right;\">\n",
       "      <th></th>\n",
       "      <th>reporters</th>\n",
       "    </tr>\n",
       "  </thead>\n",
       "  <tbody>\n",
       "    <tr>\n",
       "      <td>18</td>\n",
       "      <td>Kristin Dahlgren</td>\n",
       "    </tr>\n",
       "    <tr>\n",
       "      <td>19</td>\n",
       "      <td>Errol Barnett</td>\n",
       "    </tr>\n",
       "    <tr>\n",
       "      <td>19</td>\n",
       "      <td>Chip Reid</td>\n",
       "    </tr>\n",
       "  </tbody>\n",
       "</table>\n",
       "</div>"
      ],
      "text/plain": [
       "           reporters\n",
       "18  Kristin Dahlgren\n",
       "19     Errol Barnett\n",
       "19         Chip Reid"
      ]
     },
     "execution_count": 152,
     "metadata": {},
     "output_type": "execute_result"
    }
   ],
   "source": [
    "real_explode.loc[real_explode['reporters'].map(lambda d: len(d.split())) == 2].tail(3)"
   ]
  },
  {
   "cell_type": "code",
   "execution_count": 151,
   "metadata": {},
   "outputs": [
    {
     "data": {
      "text/plain": [
       "(686536, 1)"
      ]
     },
     "execution_count": 151,
     "metadata": {},
     "output_type": "execute_result"
    }
   ],
   "source": [
    "real_explode.loc[real_explode['reporters'].map(lambda d: len(d.split())) > 2].shape"
   ]
  },
  {
   "cell_type": "code",
   "execution_count": 156,
   "metadata": {},
   "outputs": [
    {
     "data": {
      "text/html": [
       "<div>\n",
       "<style scoped>\n",
       "    .dataframe tbody tr th:only-of-type {\n",
       "        vertical-align: middle;\n",
       "    }\n",
       "\n",
       "    .dataframe tbody tr th {\n",
       "        vertical-align: top;\n",
       "    }\n",
       "\n",
       "    .dataframe thead th {\n",
       "        text-align: right;\n",
       "    }\n",
       "</style>\n",
       "<table border=\"1\" class=\"dataframe\">\n",
       "  <thead>\n",
       "    <tr style=\"text-align: right;\">\n",
       "      <th></th>\n",
       "      <th>reporters</th>\n",
       "    </tr>\n",
       "  </thead>\n",
       "  <tbody>\n",
       "    <tr>\n",
       "      <td>11</td>\n",
       "      <td>John Berman; Chiang Rai, Thailand</td>\n",
       "    </tr>\n",
       "    <tr>\n",
       "      <td>11</td>\n",
       "      <td>John Berman; Chiang Rai, Thailand</td>\n",
       "    </tr>\n",
       "    <tr>\n",
       "      <td>11</td>\n",
       "      <td>John Berman; Chiang Rai, Thailand</td>\n",
       "    </tr>\n",
       "    <tr>\n",
       "      <td>11</td>\n",
       "      <td>John Berman; Chiang Rai, Thailand</td>\n",
       "    </tr>\n",
       "    <tr>\n",
       "      <td>11</td>\n",
       "      <td>John Berman; Chiang Rai, Thailand</td>\n",
       "    </tr>\n",
       "    <tr>\n",
       "      <td>11</td>\n",
       "      <td>John Berman; Chiang Rai, Thailand</td>\n",
       "    </tr>\n",
       "    <tr>\n",
       "      <td>11</td>\n",
       "      <td>John Berman; Chiang Rai, Thailand</td>\n",
       "    </tr>\n",
       "    <tr>\n",
       "      <td>11</td>\n",
       "      <td>John Berman; Chiang Rai, Thailand</td>\n",
       "    </tr>\n",
       "    <tr>\n",
       "      <td>11</td>\n",
       "      <td>John Berman; Chiang Rai, Thailand</td>\n",
       "    </tr>\n",
       "    <tr>\n",
       "      <td>11</td>\n",
       "      <td>John Berman; Chiang Rai, Thailand</td>\n",
       "    </tr>\n",
       "  </tbody>\n",
       "</table>\n",
       "</div>"
      ],
      "text/plain": [
       "                            reporters\n",
       "11  John Berman; Chiang Rai, Thailand\n",
       "11  John Berman; Chiang Rai, Thailand\n",
       "11  John Berman; Chiang Rai, Thailand\n",
       "11  John Berman; Chiang Rai, Thailand\n",
       "11  John Berman; Chiang Rai, Thailand\n",
       "11  John Berman; Chiang Rai, Thailand\n",
       "11  John Berman; Chiang Rai, Thailand\n",
       "11  John Berman; Chiang Rai, Thailand\n",
       "11  John Berman; Chiang Rai, Thailand\n",
       "11  John Berman; Chiang Rai, Thailand"
      ]
     },
     "execution_count": 156,
     "metadata": {},
     "output_type": "execute_result"
    }
   ],
   "source": [
    "real_explode.loc[real_explode['reporters'].map(lambda d: len(d.split())) > 4].tail(10)"
   ]
  },
  {
   "cell_type": "code",
   "execution_count": 157,
   "metadata": {},
   "outputs": [
    {
     "data": {
      "text/html": [
       "<div>\n",
       "<style scoped>\n",
       "    .dataframe tbody tr th:only-of-type {\n",
       "        vertical-align: middle;\n",
       "    }\n",
       "\n",
       "    .dataframe tbody tr th {\n",
       "        vertical-align: top;\n",
       "    }\n",
       "\n",
       "    .dataframe thead th {\n",
       "        text-align: right;\n",
       "    }\n",
       "</style>\n",
       "<table border=\"1\" class=\"dataframe\">\n",
       "  <thead>\n",
       "    <tr style=\"text-align: right;\">\n",
       "      <th></th>\n",
       "      <th>reporters</th>\n",
       "    </tr>\n",
       "  </thead>\n",
       "  <tbody>\n",
       "    <tr>\n",
       "      <td>12</td>\n",
       "      <td>Anderson Cooper; San Juan</td>\n",
       "    </tr>\n",
       "    <tr>\n",
       "      <td>12</td>\n",
       "      <td>Anderson Cooper;Boston</td>\n",
       "    </tr>\n",
       "    <tr>\n",
       "      <td>12</td>\n",
       "      <td>David Muir; New York</td>\n",
       "    </tr>\n",
       "    <tr>\n",
       "      <td>12</td>\n",
       "      <td>Anderson Cooper; San Juan</td>\n",
       "    </tr>\n",
       "    <tr>\n",
       "      <td>12</td>\n",
       "      <td>Anderson Cooper;Boston</td>\n",
       "    </tr>\n",
       "    <tr>\n",
       "      <td>12</td>\n",
       "      <td>David Muir; New York</td>\n",
       "    </tr>\n",
       "    <tr>\n",
       "      <td>12</td>\n",
       "      <td>Anderson Cooper; San Juan</td>\n",
       "    </tr>\n",
       "    <tr>\n",
       "      <td>12</td>\n",
       "      <td>Anderson Cooper;Boston</td>\n",
       "    </tr>\n",
       "    <tr>\n",
       "      <td>12</td>\n",
       "      <td>David Muir; New York</td>\n",
       "    </tr>\n",
       "    <tr>\n",
       "      <td>12</td>\n",
       "      <td>Anderson Cooper; San Juan</td>\n",
       "    </tr>\n",
       "  </tbody>\n",
       "</table>\n",
       "</div>"
      ],
      "text/plain": [
       "                    reporters\n",
       "12  Anderson Cooper; San Juan\n",
       "12     Anderson Cooper;Boston\n",
       "12       David Muir; New York\n",
       "12  Anderson Cooper; San Juan\n",
       "12     Anderson Cooper;Boston\n",
       "12       David Muir; New York\n",
       "12  Anderson Cooper; San Juan\n",
       "12     Anderson Cooper;Boston\n",
       "12       David Muir; New York\n",
       "12  Anderson Cooper; San Juan"
      ]
     },
     "execution_count": 157,
     "metadata": {},
     "output_type": "execute_result"
    }
   ],
   "source": [
    "real_explode.loc[real_explode['reporters'].str.contains(';')].tail(10)"
   ]
  },
  {
   "cell_type": "code",
   "execution_count": null,
   "metadata": {},
   "outputs": [],
   "source": []
  },
  {
   "cell_type": "code",
   "execution_count": null,
   "metadata": {},
   "outputs": [],
   "source": []
  },
  {
   "cell_type": "code",
   "execution_count": null,
   "metadata": {},
   "outputs": [],
   "source": []
  },
  {
   "cell_type": "code",
   "execution_count": null,
   "metadata": {},
   "outputs": [],
   "source": []
  },
  {
   "cell_type": "code",
   "execution_count": null,
   "metadata": {},
   "outputs": [],
   "source": []
  },
  {
   "cell_type": "code",
   "execution_count": null,
   "metadata": {},
   "outputs": [],
   "source": []
  },
  {
   "cell_type": "code",
   "execution_count": null,
   "metadata": {},
   "outputs": [],
   "source": []
  },
  {
   "cell_type": "code",
   "execution_count": null,
   "metadata": {},
   "outputs": [],
   "source": []
  },
  {
   "cell_type": "code",
   "execution_count": null,
   "metadata": {},
   "outputs": [],
   "source": []
  },
  {
   "cell_type": "code",
   "execution_count": null,
   "metadata": {},
   "outputs": [],
   "source": []
  }
 ],
 "metadata": {
  "kernelspec": {
   "display_name": "Python 3",
   "language": "python",
   "name": "python3"
  },
  "language_info": {
   "codemirror_mode": {
    "name": "ipython",
    "version": 3
   },
   "file_extension": ".py",
   "mimetype": "text/x-python",
   "name": "python",
   "nbconvert_exporter": "python",
   "pygments_lexer": "ipython3",
   "version": "3.7.4"
  }
 },
 "nbformat": 4,
 "nbformat_minor": 2
}
